{
 "cells": [
  {
   "cell_type": "code",
   "execution_count": 2,
   "metadata": {},
   "outputs": [
    {
     "data": {
      "text/html": [
       "<div>\n",
       "<style scoped>\n",
       "    .dataframe tbody tr th:only-of-type {\n",
       "        vertical-align: middle;\n",
       "    }\n",
       "\n",
       "    .dataframe tbody tr th {\n",
       "        vertical-align: top;\n",
       "    }\n",
       "\n",
       "    .dataframe thead th {\n",
       "        text-align: right;\n",
       "    }\n",
       "</style>\n",
       "<table border=\"1\" class=\"dataframe\">\n",
       "  <thead>\n",
       "    <tr style=\"text-align: right;\">\n",
       "      <th></th>\n",
       "      <th>carat</th>\n",
       "      <th>depth</th>\n",
       "      <th>table</th>\n",
       "      <th>x</th>\n",
       "      <th>y</th>\n",
       "      <th>z</th>\n",
       "    </tr>\n",
       "  </thead>\n",
       "  <tbody>\n",
       "    <tr>\n",
       "      <td>0</td>\n",
       "      <td>0.23</td>\n",
       "      <td>61.5</td>\n",
       "      <td>55.0</td>\n",
       "      <td>3.95</td>\n",
       "      <td>3.98</td>\n",
       "      <td>2.43</td>\n",
       "    </tr>\n",
       "    <tr>\n",
       "      <td>1</td>\n",
       "      <td>0.21</td>\n",
       "      <td>59.8</td>\n",
       "      <td>61.0</td>\n",
       "      <td>3.89</td>\n",
       "      <td>3.84</td>\n",
       "      <td>2.31</td>\n",
       "    </tr>\n",
       "    <tr>\n",
       "      <td>2</td>\n",
       "      <td>0.23</td>\n",
       "      <td>56.9</td>\n",
       "      <td>65.0</td>\n",
       "      <td>4.05</td>\n",
       "      <td>4.07</td>\n",
       "      <td>2.31</td>\n",
       "    </tr>\n",
       "    <tr>\n",
       "      <td>3</td>\n",
       "      <td>0.29</td>\n",
       "      <td>62.4</td>\n",
       "      <td>58.0</td>\n",
       "      <td>4.20</td>\n",
       "      <td>4.23</td>\n",
       "      <td>2.63</td>\n",
       "    </tr>\n",
       "    <tr>\n",
       "      <td>4</td>\n",
       "      <td>0.31</td>\n",
       "      <td>63.3</td>\n",
       "      <td>58.0</td>\n",
       "      <td>4.34</td>\n",
       "      <td>4.35</td>\n",
       "      <td>2.75</td>\n",
       "    </tr>\n",
       "  </tbody>\n",
       "</table>\n",
       "</div>"
      ],
      "text/plain": [
       "   carat  depth  table     x     y     z\n",
       "0   0.23   61.5   55.0  3.95  3.98  2.43\n",
       "1   0.21   59.8   61.0  3.89  3.84  2.31\n",
       "2   0.23   56.9   65.0  4.05  4.07  2.31\n",
       "3   0.29   62.4   58.0  4.20  4.23  2.63\n",
       "4   0.31   63.3   58.0  4.34  4.35  2.75"
      ]
     },
     "execution_count": 2,
     "metadata": {},
     "output_type": "execute_result"
    }
   ],
   "source": [
    "import seaborn as sns\n",
    "diamonds = sns.load_dataset(\"diamonds\")\n",
    "diamonds = diamonds.select_dtypes(\"float64\" ,\"int64\")\n",
    "df = diamonds.copy()\n",
    "df = diamonds.dropna()\n",
    "df.head()"
   ]
  },
  {
   "cell_type": "markdown",
   "metadata": {},
   "source": [
    "# silme yöntemli"
   ]
  },
  {
   "cell_type": "code",
   "execution_count": null,
   "metadata": {},
   "outputs": [],
   "source": []
  },
  {
   "cell_type": "code",
   "execution_count": 3,
   "metadata": {},
   "outputs": [],
   "source": [
    "import numpy as np \n",
    "from sklearn.neighbors import LocalOutlierFactor"
   ]
  },
  {
   "cell_type": "code",
   "execution_count": 4,
   "metadata": {},
   "outputs": [],
   "source": [
    "clf = LocalOutlierFactor(n_neighbors = 20 ,contamination = 0.1)\n",
    "#komşuluk faktorü , yoğunluk\n"
   ]
  },
  {
   "cell_type": "code",
   "execution_count": 5,
   "metadata": {},
   "outputs": [
    {
     "data": {
      "text/plain": [
       "LocalOutlierFactor(algorithm='auto', contamination=0.1, leaf_size=30,\n",
       "                   metric='minkowski', metric_params=None, n_jobs=None,\n",
       "                   n_neighbors=20, novelty=False, p=2)"
      ]
     },
     "execution_count": 5,
     "metadata": {},
     "output_type": "execute_result"
    }
   ],
   "source": [
    "clf"
   ]
  },
  {
   "cell_type": "code",
   "execution_count": 6,
   "metadata": {},
   "outputs": [
    {
     "data": {
      "text/plain": [
       "array([ 1, -1, -1, ...,  1,  1,  1])"
      ]
     },
     "execution_count": 6,
     "metadata": {},
     "output_type": "execute_result"
    }
   ],
   "source": [
    "clf.fit_predict(df) #fit etme (algoritma çalıştırma)"
   ]
  },
  {
   "cell_type": "code",
   "execution_count": 7,
   "metadata": {},
   "outputs": [],
   "source": [
    "df_score = clf.negative_outlier_factor_"
   ]
  },
  {
   "cell_type": "code",
   "execution_count": 8,
   "metadata": {},
   "outputs": [
    {
     "data": {
      "text/plain": [
       "array([-1.11374289, -1.23429179, -1.2933565 , -1.26714354, -1.07513901,\n",
       "       -1.08846786, -1.09451271, -1.0138337 , -1.64618253, -1.15038476,\n",
       "       -1.15082332, -1.42358399, -1.8506426 , -0.96967916, -1.79876172,\n",
       "       -0.99830379, -1.12219887, -1.01445729, -0.98400458, -1.0020063 ])"
      ]
     },
     "execution_count": 8,
     "metadata": {},
     "output_type": "execute_result"
    }
   ],
   "source": [
    "df_score[0:20]"
   ]
  },
  {
   "cell_type": "code",
   "execution_count": 9,
   "metadata": {},
   "outputs": [
    {
     "data": {
      "text/plain": [
       "array([-1.8506426 , -1.79876172, -1.64618253, -1.42358399, -1.2933565 ,\n",
       "       -1.26714354, -1.23429179, -1.15082332, -1.15038476, -1.12219887,\n",
       "       -1.11374289, -1.09451271, -1.08846786, -1.07513901, -1.01445729,\n",
       "       -1.0138337 , -1.0020063 , -0.99830379, -0.98400458, -0.96967916])"
      ]
     },
     "execution_count": 9,
     "metadata": {},
     "output_type": "execute_result"
    }
   ],
   "source": [
    "np.sort(df_score[0:20])#yalniş sıralama ilk 20 gözlemi sıralar"
   ]
  },
  {
   "cell_type": "code",
   "execution_count": 10,
   "metadata": {},
   "outputs": [
    {
     "data": {
      "text/plain": [
       "array([-29.3978291 , -26.46951036, -21.30748166, -18.01017463,\n",
       "       -16.97514699, -16.62995733, -16.03576855, -14.32752813,\n",
       "       -14.08761108, -13.6431223 , -13.54326147, -13.39416157,\n",
       "       -12.07661152, -11.64375954, -11.34795868, -11.17339208,\n",
       "       -10.41971572, -10.19053966, -10.13773379,  -9.94690686])"
      ]
     },
     "execution_count": 10,
     "metadata": {},
     "output_type": "execute_result"
    }
   ],
   "source": [
    "np.sort(df_score)[0:20] # doğru sıralama ,sıralar sonra ilk 20 gözlemi getirir"
   ]
  },
  {
   "cell_type": "code",
   "execution_count": 11,
   "metadata": {},
   "outputs": [
    {
     "data": {
      "text/plain": [
       "-11.643759538096306"
      ]
     },
     "execution_count": 11,
     "metadata": {},
     "output_type": "execute_result"
    }
   ],
   "source": [
    "esik_deger = np.sort(df_score)[13]\n",
    "esik_deger\n",
    "# burada kendimize sınır skoru belirliyoruz"
   ]
  },
  {
   "cell_type": "code",
   "execution_count": 12,
   "metadata": {},
   "outputs": [],
   "source": [
    "aykiri_tf = df_score > esik_deger"
   ]
  },
  {
   "cell_type": "code",
   "execution_count": 13,
   "metadata": {},
   "outputs": [
    {
     "data": {
      "text/plain": [
       "array([ True,  True,  True, ...,  True,  True,  True])"
      ]
     },
     "execution_count": 13,
     "metadata": {},
     "output_type": "execute_result"
    }
   ],
   "source": [
    "aykiri_tf"
   ]
  },
  {
   "cell_type": "code",
   "execution_count": 14,
   "metadata": {},
   "outputs": [],
   "source": [
    "yeni_df = df[df_score > esik_deger] # aykırı olmayan degerler"
   ]
  },
  {
   "cell_type": "code",
   "execution_count": 15,
   "metadata": {},
   "outputs": [
    {
     "data": {
      "text/html": [
       "<div>\n",
       "<style scoped>\n",
       "    .dataframe tbody tr th:only-of-type {\n",
       "        vertical-align: middle;\n",
       "    }\n",
       "\n",
       "    .dataframe tbody tr th {\n",
       "        vertical-align: top;\n",
       "    }\n",
       "\n",
       "    .dataframe thead th {\n",
       "        text-align: right;\n",
       "    }\n",
       "</style>\n",
       "<table border=\"1\" class=\"dataframe\">\n",
       "  <thead>\n",
       "    <tr style=\"text-align: right;\">\n",
       "      <th></th>\n",
       "      <th>carat</th>\n",
       "      <th>depth</th>\n",
       "      <th>table</th>\n",
       "      <th>x</th>\n",
       "      <th>y</th>\n",
       "      <th>z</th>\n",
       "    </tr>\n",
       "  </thead>\n",
       "  <tbody>\n",
       "    <tr>\n",
       "      <td>0</td>\n",
       "      <td>0.23</td>\n",
       "      <td>61.5</td>\n",
       "      <td>55.0</td>\n",
       "      <td>3.95</td>\n",
       "      <td>3.98</td>\n",
       "      <td>2.43</td>\n",
       "    </tr>\n",
       "    <tr>\n",
       "      <td>1</td>\n",
       "      <td>0.21</td>\n",
       "      <td>59.8</td>\n",
       "      <td>61.0</td>\n",
       "      <td>3.89</td>\n",
       "      <td>3.84</td>\n",
       "      <td>2.31</td>\n",
       "    </tr>\n",
       "    <tr>\n",
       "      <td>2</td>\n",
       "      <td>0.23</td>\n",
       "      <td>56.9</td>\n",
       "      <td>65.0</td>\n",
       "      <td>4.05</td>\n",
       "      <td>4.07</td>\n",
       "      <td>2.31</td>\n",
       "    </tr>\n",
       "    <tr>\n",
       "      <td>3</td>\n",
       "      <td>0.29</td>\n",
       "      <td>62.4</td>\n",
       "      <td>58.0</td>\n",
       "      <td>4.20</td>\n",
       "      <td>4.23</td>\n",
       "      <td>2.63</td>\n",
       "    </tr>\n",
       "    <tr>\n",
       "      <td>4</td>\n",
       "      <td>0.31</td>\n",
       "      <td>63.3</td>\n",
       "      <td>58.0</td>\n",
       "      <td>4.34</td>\n",
       "      <td>4.35</td>\n",
       "      <td>2.75</td>\n",
       "    </tr>\n",
       "    <tr>\n",
       "      <td>...</td>\n",
       "      <td>...</td>\n",
       "      <td>...</td>\n",
       "      <td>...</td>\n",
       "      <td>...</td>\n",
       "      <td>...</td>\n",
       "      <td>...</td>\n",
       "    </tr>\n",
       "    <tr>\n",
       "      <td>53935</td>\n",
       "      <td>0.72</td>\n",
       "      <td>60.8</td>\n",
       "      <td>57.0</td>\n",
       "      <td>5.75</td>\n",
       "      <td>5.76</td>\n",
       "      <td>3.50</td>\n",
       "    </tr>\n",
       "    <tr>\n",
       "      <td>53936</td>\n",
       "      <td>0.72</td>\n",
       "      <td>63.1</td>\n",
       "      <td>55.0</td>\n",
       "      <td>5.69</td>\n",
       "      <td>5.75</td>\n",
       "      <td>3.61</td>\n",
       "    </tr>\n",
       "    <tr>\n",
       "      <td>53937</td>\n",
       "      <td>0.70</td>\n",
       "      <td>62.8</td>\n",
       "      <td>60.0</td>\n",
       "      <td>5.66</td>\n",
       "      <td>5.68</td>\n",
       "      <td>3.56</td>\n",
       "    </tr>\n",
       "    <tr>\n",
       "      <td>53938</td>\n",
       "      <td>0.86</td>\n",
       "      <td>61.0</td>\n",
       "      <td>58.0</td>\n",
       "      <td>6.15</td>\n",
       "      <td>6.12</td>\n",
       "      <td>3.74</td>\n",
       "    </tr>\n",
       "    <tr>\n",
       "      <td>53939</td>\n",
       "      <td>0.75</td>\n",
       "      <td>62.2</td>\n",
       "      <td>55.0</td>\n",
       "      <td>5.83</td>\n",
       "      <td>5.87</td>\n",
       "      <td>3.64</td>\n",
       "    </tr>\n",
       "  </tbody>\n",
       "</table>\n",
       "<p>53926 rows × 6 columns</p>\n",
       "</div>"
      ],
      "text/plain": [
       "       carat  depth  table     x     y     z\n",
       "0       0.23   61.5   55.0  3.95  3.98  2.43\n",
       "1       0.21   59.8   61.0  3.89  3.84  2.31\n",
       "2       0.23   56.9   65.0  4.05  4.07  2.31\n",
       "3       0.29   62.4   58.0  4.20  4.23  2.63\n",
       "4       0.31   63.3   58.0  4.34  4.35  2.75\n",
       "...      ...    ...    ...   ...   ...   ...\n",
       "53935   0.72   60.8   57.0  5.75  5.76  3.50\n",
       "53936   0.72   63.1   55.0  5.69  5.75  3.61\n",
       "53937   0.70   62.8   60.0  5.66  5.68  3.56\n",
       "53938   0.86   61.0   58.0  6.15  6.12  3.74\n",
       "53939   0.75   62.2   55.0  5.83  5.87  3.64\n",
       "\n",
       "[53926 rows x 6 columns]"
      ]
     },
     "execution_count": 15,
     "metadata": {},
     "output_type": "execute_result"
    }
   ],
   "source": [
    "yeni_df"
   ]
  },
  {
   "cell_type": "code",
   "execution_count": 16,
   "metadata": {},
   "outputs": [],
   "source": [
    "aykiri_df = df[df_score < esik_deger]"
   ]
  },
  {
   "cell_type": "code",
   "execution_count": 17,
   "metadata": {},
   "outputs": [
    {
     "data": {
      "text/html": [
       "<div>\n",
       "<style scoped>\n",
       "    .dataframe tbody tr th:only-of-type {\n",
       "        vertical-align: middle;\n",
       "    }\n",
       "\n",
       "    .dataframe tbody tr th {\n",
       "        vertical-align: top;\n",
       "    }\n",
       "\n",
       "    .dataframe thead th {\n",
       "        text-align: right;\n",
       "    }\n",
       "</style>\n",
       "<table border=\"1\" class=\"dataframe\">\n",
       "  <thead>\n",
       "    <tr style=\"text-align: right;\">\n",
       "      <th></th>\n",
       "      <th>carat</th>\n",
       "      <th>depth</th>\n",
       "      <th>table</th>\n",
       "      <th>x</th>\n",
       "      <th>y</th>\n",
       "      <th>z</th>\n",
       "    </tr>\n",
       "  </thead>\n",
       "  <tbody>\n",
       "    <tr>\n",
       "      <td>2274</td>\n",
       "      <td>1.22</td>\n",
       "      <td>62.6</td>\n",
       "      <td>59.0</td>\n",
       "      <td>6.79</td>\n",
       "      <td>4.24</td>\n",
       "      <td>3.76</td>\n",
       "    </tr>\n",
       "    <tr>\n",
       "      <td>4791</td>\n",
       "      <td>1.10</td>\n",
       "      <td>63.0</td>\n",
       "      <td>59.0</td>\n",
       "      <td>6.50</td>\n",
       "      <td>6.47</td>\n",
       "      <td>0.00</td>\n",
       "    </tr>\n",
       "    <tr>\n",
       "      <td>11182</td>\n",
       "      <td>1.07</td>\n",
       "      <td>61.6</td>\n",
       "      <td>56.0</td>\n",
       "      <td>0.00</td>\n",
       "      <td>6.62</td>\n",
       "      <td>0.00</td>\n",
       "    </tr>\n",
       "    <tr>\n",
       "      <td>14635</td>\n",
       "      <td>1.07</td>\n",
       "      <td>60.6</td>\n",
       "      <td>57.0</td>\n",
       "      <td>6.62</td>\n",
       "      <td>6.67</td>\n",
       "      <td>1.07</td>\n",
       "    </tr>\n",
       "    <tr>\n",
       "      <td>15235</td>\n",
       "      <td>1.12</td>\n",
       "      <td>61.6</td>\n",
       "      <td>58.0</td>\n",
       "      <td>6.64</td>\n",
       "      <td>4.11</td>\n",
       "      <td>3.70</td>\n",
       "    </tr>\n",
       "    <tr>\n",
       "      <td>21654</td>\n",
       "      <td>1.41</td>\n",
       "      <td>60.7</td>\n",
       "      <td>56.0</td>\n",
       "      <td>7.31</td>\n",
       "      <td>7.22</td>\n",
       "      <td>1.41</td>\n",
       "    </tr>\n",
       "    <tr>\n",
       "      <td>24067</td>\n",
       "      <td>2.00</td>\n",
       "      <td>58.9</td>\n",
       "      <td>57.0</td>\n",
       "      <td>8.09</td>\n",
       "      <td>58.90</td>\n",
       "      <td>8.06</td>\n",
       "    </tr>\n",
       "    <tr>\n",
       "      <td>24520</td>\n",
       "      <td>1.56</td>\n",
       "      <td>62.2</td>\n",
       "      <td>54.0</td>\n",
       "      <td>0.00</td>\n",
       "      <td>0.00</td>\n",
       "      <td>0.00</td>\n",
       "    </tr>\n",
       "    <tr>\n",
       "      <td>26243</td>\n",
       "      <td>1.20</td>\n",
       "      <td>62.1</td>\n",
       "      <td>59.0</td>\n",
       "      <td>0.00</td>\n",
       "      <td>0.00</td>\n",
       "      <td>0.00</td>\n",
       "    </tr>\n",
       "    <tr>\n",
       "      <td>27429</td>\n",
       "      <td>2.25</td>\n",
       "      <td>62.8</td>\n",
       "      <td>59.0</td>\n",
       "      <td>0.00</td>\n",
       "      <td>0.00</td>\n",
       "      <td>0.00</td>\n",
       "    </tr>\n",
       "    <tr>\n",
       "      <td>48410</td>\n",
       "      <td>0.51</td>\n",
       "      <td>61.8</td>\n",
       "      <td>54.7</td>\n",
       "      <td>5.12</td>\n",
       "      <td>5.15</td>\n",
       "      <td>31.80</td>\n",
       "    </tr>\n",
       "    <tr>\n",
       "      <td>49189</td>\n",
       "      <td>0.51</td>\n",
       "      <td>61.8</td>\n",
       "      <td>55.0</td>\n",
       "      <td>5.15</td>\n",
       "      <td>31.80</td>\n",
       "      <td>5.12</td>\n",
       "    </tr>\n",
       "    <tr>\n",
       "      <td>49905</td>\n",
       "      <td>0.50</td>\n",
       "      <td>63.7</td>\n",
       "      <td>58.0</td>\n",
       "      <td>5.01</td>\n",
       "      <td>5.04</td>\n",
       "      <td>5.06</td>\n",
       "    </tr>\n",
       "  </tbody>\n",
       "</table>\n",
       "</div>"
      ],
      "text/plain": [
       "       carat  depth  table     x      y      z\n",
       "2274    1.22   62.6   59.0  6.79   4.24   3.76\n",
       "4791    1.10   63.0   59.0  6.50   6.47   0.00\n",
       "11182   1.07   61.6   56.0  0.00   6.62   0.00\n",
       "14635   1.07   60.6   57.0  6.62   6.67   1.07\n",
       "15235   1.12   61.6   58.0  6.64   4.11   3.70\n",
       "21654   1.41   60.7   56.0  7.31   7.22   1.41\n",
       "24067   2.00   58.9   57.0  8.09  58.90   8.06\n",
       "24520   1.56   62.2   54.0  0.00   0.00   0.00\n",
       "26243   1.20   62.1   59.0  0.00   0.00   0.00\n",
       "27429   2.25   62.8   59.0  0.00   0.00   0.00\n",
       "48410   0.51   61.8   54.7  5.12   5.15  31.80\n",
       "49189   0.51   61.8   55.0  5.15  31.80   5.12\n",
       "49905   0.50   63.7   58.0  5.01   5.04   5.06"
      ]
     },
     "execution_count": 17,
     "metadata": {},
     "output_type": "execute_result"
    }
   ],
   "source": [
    "aykiri_df"
   ]
  },
  {
   "cell_type": "code",
   "execution_count": null,
   "metadata": {},
   "outputs": [],
   "source": []
  },
  {
   "cell_type": "code",
   "execution_count": null,
   "metadata": {},
   "outputs": [],
   "source": []
  },
  {
   "cell_type": "code",
   "execution_count": null,
   "metadata": {},
   "outputs": [],
   "source": []
  },
  {
   "cell_type": "code",
   "execution_count": null,
   "metadata": {},
   "outputs": [],
   "source": []
  },
  {
   "cell_type": "markdown",
   "metadata": {},
   "source": [
    "# baskılama yöntemi"
   ]
  },
  {
   "cell_type": "code",
   "execution_count": 65,
   "metadata": {},
   "outputs": [
    {
     "data": {
      "text/html": [
       "<div>\n",
       "<style scoped>\n",
       "    .dataframe tbody tr th:only-of-type {\n",
       "        vertical-align: middle;\n",
       "    }\n",
       "\n",
       "    .dataframe tbody tr th {\n",
       "        vertical-align: top;\n",
       "    }\n",
       "\n",
       "    .dataframe thead th {\n",
       "        text-align: right;\n",
       "    }\n",
       "</style>\n",
       "<table border=\"1\" class=\"dataframe\">\n",
       "  <thead>\n",
       "    <tr style=\"text-align: right;\">\n",
       "      <th></th>\n",
       "      <th>carat</th>\n",
       "      <th>depth</th>\n",
       "      <th>table</th>\n",
       "      <th>x</th>\n",
       "      <th>y</th>\n",
       "      <th>z</th>\n",
       "    </tr>\n",
       "  </thead>\n",
       "  <tbody>\n",
       "    <tr>\n",
       "      <td>20694</td>\n",
       "      <td>1.53</td>\n",
       "      <td>61.9</td>\n",
       "      <td>54.0</td>\n",
       "      <td>7.43</td>\n",
       "      <td>7.5</td>\n",
       "      <td>1.53</td>\n",
       "    </tr>\n",
       "  </tbody>\n",
       "</table>\n",
       "</div>"
      ],
      "text/plain": [
       "       carat  depth  table     x    y     z\n",
       "20694   1.53   61.9   54.0  7.43  7.5  1.53"
      ]
     },
     "execution_count": 65,
     "metadata": {},
     "output_type": "execute_result"
    }
   ],
   "source": [
    "df[df_score == esik_deger]"
   ]
  },
  {
   "cell_type": "code",
   "execution_count": 68,
   "metadata": {},
   "outputs": [
    {
     "data": {
      "text/html": [
       "<div>\n",
       "<style scoped>\n",
       "    .dataframe tbody tr th:only-of-type {\n",
       "        vertical-align: middle;\n",
       "    }\n",
       "\n",
       "    .dataframe tbody tr th {\n",
       "        vertical-align: top;\n",
       "    }\n",
       "\n",
       "    .dataframe thead th {\n",
       "        text-align: right;\n",
       "    }\n",
       "</style>\n",
       "<table border=\"1\" class=\"dataframe\">\n",
       "  <thead>\n",
       "    <tr style=\"text-align: right;\">\n",
       "      <th></th>\n",
       "      <th>carat</th>\n",
       "      <th>depth</th>\n",
       "      <th>table</th>\n",
       "      <th>x</th>\n",
       "      <th>y</th>\n",
       "      <th>z</th>\n",
       "    </tr>\n",
       "  </thead>\n",
       "  <tbody>\n",
       "    <tr>\n",
       "      <td>20694</td>\n",
       "      <td>1.53</td>\n",
       "      <td>61.9</td>\n",
       "      <td>54.0</td>\n",
       "      <td>7.43</td>\n",
       "      <td>7.5</td>\n",
       "      <td>1.53</td>\n",
       "    </tr>\n",
       "  </tbody>\n",
       "</table>\n",
       "</div>"
      ],
      "text/plain": [
       "       carat  depth  table     x    y     z\n",
       "20694   1.53   61.9   54.0  7.43  7.5  1.53"
      ]
     },
     "execution_count": 68,
     "metadata": {},
     "output_type": "execute_result"
    }
   ],
   "source": [
    "baski_deger = df[df_score == esik_deger]\n",
    "baski_deger"
   ]
  },
  {
   "cell_type": "code",
   "execution_count": 75,
   "metadata": {},
   "outputs": [
    {
     "data": {
      "text/html": [
       "<div>\n",
       "<style scoped>\n",
       "    .dataframe tbody tr th:only-of-type {\n",
       "        vertical-align: middle;\n",
       "    }\n",
       "\n",
       "    .dataframe tbody tr th {\n",
       "        vertical-align: top;\n",
       "    }\n",
       "\n",
       "    .dataframe thead th {\n",
       "        text-align: right;\n",
       "    }\n",
       "</style>\n",
       "<table border=\"1\" class=\"dataframe\">\n",
       "  <thead>\n",
       "    <tr style=\"text-align: right;\">\n",
       "      <th></th>\n",
       "      <th>carat</th>\n",
       "      <th>depth</th>\n",
       "      <th>table</th>\n",
       "      <th>x</th>\n",
       "      <th>y</th>\n",
       "      <th>z</th>\n",
       "    </tr>\n",
       "  </thead>\n",
       "  <tbody>\n",
       "    <tr>\n",
       "      <td>2274</td>\n",
       "      <td>1.22</td>\n",
       "      <td>62.6</td>\n",
       "      <td>59.0</td>\n",
       "      <td>6.79</td>\n",
       "      <td>4.24</td>\n",
       "      <td>3.76</td>\n",
       "    </tr>\n",
       "    <tr>\n",
       "      <td>4791</td>\n",
       "      <td>1.10</td>\n",
       "      <td>63.0</td>\n",
       "      <td>59.0</td>\n",
       "      <td>6.50</td>\n",
       "      <td>6.47</td>\n",
       "      <td>0.00</td>\n",
       "    </tr>\n",
       "    <tr>\n",
       "      <td>11182</td>\n",
       "      <td>1.07</td>\n",
       "      <td>61.6</td>\n",
       "      <td>56.0</td>\n",
       "      <td>0.00</td>\n",
       "      <td>6.62</td>\n",
       "      <td>0.00</td>\n",
       "    </tr>\n",
       "    <tr>\n",
       "      <td>14635</td>\n",
       "      <td>1.07</td>\n",
       "      <td>60.6</td>\n",
       "      <td>57.0</td>\n",
       "      <td>6.62</td>\n",
       "      <td>6.67</td>\n",
       "      <td>1.07</td>\n",
       "    </tr>\n",
       "    <tr>\n",
       "      <td>15235</td>\n",
       "      <td>1.12</td>\n",
       "      <td>61.6</td>\n",
       "      <td>58.0</td>\n",
       "      <td>6.64</td>\n",
       "      <td>4.11</td>\n",
       "      <td>3.70</td>\n",
       "    </tr>\n",
       "    <tr>\n",
       "      <td>20694</td>\n",
       "      <td>1.53</td>\n",
       "      <td>61.9</td>\n",
       "      <td>54.0</td>\n",
       "      <td>7.43</td>\n",
       "      <td>7.50</td>\n",
       "      <td>1.53</td>\n",
       "    </tr>\n",
       "    <tr>\n",
       "      <td>21654</td>\n",
       "      <td>1.41</td>\n",
       "      <td>60.7</td>\n",
       "      <td>56.0</td>\n",
       "      <td>7.31</td>\n",
       "      <td>7.22</td>\n",
       "      <td>1.41</td>\n",
       "    </tr>\n",
       "    <tr>\n",
       "      <td>24067</td>\n",
       "      <td>2.00</td>\n",
       "      <td>58.9</td>\n",
       "      <td>57.0</td>\n",
       "      <td>8.09</td>\n",
       "      <td>58.90</td>\n",
       "      <td>8.06</td>\n",
       "    </tr>\n",
       "    <tr>\n",
       "      <td>24520</td>\n",
       "      <td>1.56</td>\n",
       "      <td>62.2</td>\n",
       "      <td>54.0</td>\n",
       "      <td>0.00</td>\n",
       "      <td>0.00</td>\n",
       "      <td>0.00</td>\n",
       "    </tr>\n",
       "    <tr>\n",
       "      <td>26243</td>\n",
       "      <td>1.20</td>\n",
       "      <td>62.1</td>\n",
       "      <td>59.0</td>\n",
       "      <td>0.00</td>\n",
       "      <td>0.00</td>\n",
       "      <td>0.00</td>\n",
       "    </tr>\n",
       "    <tr>\n",
       "      <td>27429</td>\n",
       "      <td>2.25</td>\n",
       "      <td>62.8</td>\n",
       "      <td>59.0</td>\n",
       "      <td>0.00</td>\n",
       "      <td>0.00</td>\n",
       "      <td>0.00</td>\n",
       "    </tr>\n",
       "    <tr>\n",
       "      <td>48410</td>\n",
       "      <td>0.51</td>\n",
       "      <td>61.8</td>\n",
       "      <td>54.7</td>\n",
       "      <td>5.12</td>\n",
       "      <td>5.15</td>\n",
       "      <td>31.80</td>\n",
       "    </tr>\n",
       "    <tr>\n",
       "      <td>49189</td>\n",
       "      <td>0.51</td>\n",
       "      <td>61.8</td>\n",
       "      <td>55.0</td>\n",
       "      <td>5.15</td>\n",
       "      <td>31.80</td>\n",
       "      <td>5.12</td>\n",
       "    </tr>\n",
       "    <tr>\n",
       "      <td>49905</td>\n",
       "      <td>0.50</td>\n",
       "      <td>63.7</td>\n",
       "      <td>58.0</td>\n",
       "      <td>5.01</td>\n",
       "      <td>5.04</td>\n",
       "      <td>5.06</td>\n",
       "    </tr>\n",
       "  </tbody>\n",
       "</table>\n",
       "</div>"
      ],
      "text/plain": [
       "       carat  depth  table     x      y      z\n",
       "2274    1.22   62.6   59.0  6.79   4.24   3.76\n",
       "4791    1.10   63.0   59.0  6.50   6.47   0.00\n",
       "11182   1.07   61.6   56.0  0.00   6.62   0.00\n",
       "14635   1.07   60.6   57.0  6.62   6.67   1.07\n",
       "15235   1.12   61.6   58.0  6.64   4.11   3.70\n",
       "20694   1.53   61.9   54.0  7.43   7.50   1.53\n",
       "21654   1.41   60.7   56.0  7.31   7.22   1.41\n",
       "24067   2.00   58.9   57.0  8.09  58.90   8.06\n",
       "24520   1.56   62.2   54.0  0.00   0.00   0.00\n",
       "26243   1.20   62.1   59.0  0.00   0.00   0.00\n",
       "27429   2.25   62.8   59.0  0.00   0.00   0.00\n",
       "48410   0.51   61.8   54.7  5.12   5.15  31.80\n",
       "49189   0.51   61.8   55.0  5.15  31.80   5.12\n",
       "49905   0.50   63.7   58.0  5.01   5.04   5.06"
      ]
     },
     "execution_count": 75,
     "metadata": {},
     "output_type": "execute_result"
    }
   ],
   "source": [
    "aykirilar = df[~aykiri_tf]\n",
    "aykirilar"
   ]
  },
  {
   "cell_type": "code",
   "execution_count": 77,
   "metadata": {},
   "outputs": [],
   "source": [
    "res = aykirilar.to_records(index = False) \n",
    "# indexini kapatarak numpy arrayıne cevirir"
   ]
  },
  {
   "cell_type": "code",
   "execution_count": 78,
   "metadata": {},
   "outputs": [
    {
     "data": {
      "text/plain": [
       "rec.array([(1.22, 62.6, 59. , 6.79,  4.24,  3.76),\n",
       "           (1.1 , 63. , 59. , 6.5 ,  6.47,  0.  ),\n",
       "           (1.07, 61.6, 56. , 0.  ,  6.62,  0.  ),\n",
       "           (1.07, 60.6, 57. , 6.62,  6.67,  1.07),\n",
       "           (1.12, 61.6, 58. , 6.64,  4.11,  3.7 ),\n",
       "           (1.53, 61.9, 54. , 7.43,  7.5 ,  1.53),\n",
       "           (1.41, 60.7, 56. , 7.31,  7.22,  1.41),\n",
       "           (2.  , 58.9, 57. , 8.09, 58.9 ,  8.06),\n",
       "           (1.56, 62.2, 54. , 0.  ,  0.  ,  0.  ),\n",
       "           (1.2 , 62.1, 59. , 0.  ,  0.  ,  0.  ),\n",
       "           (2.25, 62.8, 59. , 0.  ,  0.  ,  0.  ),\n",
       "           (0.51, 61.8, 54.7, 5.12,  5.15, 31.8 ),\n",
       "           (0.51, 61.8, 55. , 5.15, 31.8 ,  5.12),\n",
       "           (0.5 , 63.7, 58. , 5.01,  5.04,  5.06)],\n",
       "          dtype=[('carat', '<f8'), ('depth', '<f8'), ('table', '<f8'), ('x', '<f8'), ('y', '<f8'), ('z', '<f8')])"
      ]
     },
     "execution_count": 78,
     "metadata": {},
     "output_type": "execute_result"
    }
   ],
   "source": [
    "res"
   ]
  },
  {
   "cell_type": "code",
   "execution_count": 79,
   "metadata": {},
   "outputs": [],
   "source": [
    "res[:] = baski_deger.to_records(index = False) \n",
    "#tüm aykırı degerleri baskı degerine cevirir "
   ]
  },
  {
   "cell_type": "code",
   "execution_count": 80,
   "metadata": {},
   "outputs": [
    {
     "data": {
      "text/plain": [
       "rec.array([(1.53, 61.9, 54., 7.43, 7.5, 1.53),\n",
       "           (1.53, 61.9, 54., 7.43, 7.5, 1.53),\n",
       "           (1.53, 61.9, 54., 7.43, 7.5, 1.53),\n",
       "           (1.53, 61.9, 54., 7.43, 7.5, 1.53),\n",
       "           (1.53, 61.9, 54., 7.43, 7.5, 1.53),\n",
       "           (1.53, 61.9, 54., 7.43, 7.5, 1.53),\n",
       "           (1.53, 61.9, 54., 7.43, 7.5, 1.53),\n",
       "           (1.53, 61.9, 54., 7.43, 7.5, 1.53),\n",
       "           (1.53, 61.9, 54., 7.43, 7.5, 1.53),\n",
       "           (1.53, 61.9, 54., 7.43, 7.5, 1.53),\n",
       "           (1.53, 61.9, 54., 7.43, 7.5, 1.53),\n",
       "           (1.53, 61.9, 54., 7.43, 7.5, 1.53),\n",
       "           (1.53, 61.9, 54., 7.43, 7.5, 1.53),\n",
       "           (1.53, 61.9, 54., 7.43, 7.5, 1.53)],\n",
       "          dtype=[('carat', '<f8'), ('depth', '<f8'), ('table', '<f8'), ('x', '<f8'), ('y', '<f8'), ('z', '<f8')])"
      ]
     },
     "execution_count": 80,
     "metadata": {},
     "output_type": "execute_result"
    }
   ],
   "source": [
    "res"
   ]
  },
  {
   "cell_type": "code",
   "execution_count": 82,
   "metadata": {},
   "outputs": [
    {
     "data": {
      "text/html": [
       "<div>\n",
       "<style scoped>\n",
       "    .dataframe tbody tr th:only-of-type {\n",
       "        vertical-align: middle;\n",
       "    }\n",
       "\n",
       "    .dataframe tbody tr th {\n",
       "        vertical-align: top;\n",
       "    }\n",
       "\n",
       "    .dataframe thead th {\n",
       "        text-align: right;\n",
       "    }\n",
       "</style>\n",
       "<table border=\"1\" class=\"dataframe\">\n",
       "  <thead>\n",
       "    <tr style=\"text-align: right;\">\n",
       "      <th></th>\n",
       "      <th>carat</th>\n",
       "      <th>depth</th>\n",
       "      <th>table</th>\n",
       "      <th>x</th>\n",
       "      <th>y</th>\n",
       "      <th>z</th>\n",
       "    </tr>\n",
       "  </thead>\n",
       "  <tbody>\n",
       "    <tr>\n",
       "      <td>2274</td>\n",
       "      <td>1.22</td>\n",
       "      <td>62.6</td>\n",
       "      <td>59.0</td>\n",
       "      <td>6.79</td>\n",
       "      <td>4.24</td>\n",
       "      <td>3.76</td>\n",
       "    </tr>\n",
       "    <tr>\n",
       "      <td>4791</td>\n",
       "      <td>1.10</td>\n",
       "      <td>63.0</td>\n",
       "      <td>59.0</td>\n",
       "      <td>6.50</td>\n",
       "      <td>6.47</td>\n",
       "      <td>0.00</td>\n",
       "    </tr>\n",
       "    <tr>\n",
       "      <td>11182</td>\n",
       "      <td>1.07</td>\n",
       "      <td>61.6</td>\n",
       "      <td>56.0</td>\n",
       "      <td>0.00</td>\n",
       "      <td>6.62</td>\n",
       "      <td>0.00</td>\n",
       "    </tr>\n",
       "    <tr>\n",
       "      <td>14635</td>\n",
       "      <td>1.07</td>\n",
       "      <td>60.6</td>\n",
       "      <td>57.0</td>\n",
       "      <td>6.62</td>\n",
       "      <td>6.67</td>\n",
       "      <td>1.07</td>\n",
       "    </tr>\n",
       "    <tr>\n",
       "      <td>15235</td>\n",
       "      <td>1.12</td>\n",
       "      <td>61.6</td>\n",
       "      <td>58.0</td>\n",
       "      <td>6.64</td>\n",
       "      <td>4.11</td>\n",
       "      <td>3.70</td>\n",
       "    </tr>\n",
       "    <tr>\n",
       "      <td>20694</td>\n",
       "      <td>1.53</td>\n",
       "      <td>61.9</td>\n",
       "      <td>54.0</td>\n",
       "      <td>7.43</td>\n",
       "      <td>7.50</td>\n",
       "      <td>1.53</td>\n",
       "    </tr>\n",
       "    <tr>\n",
       "      <td>21654</td>\n",
       "      <td>1.41</td>\n",
       "      <td>60.7</td>\n",
       "      <td>56.0</td>\n",
       "      <td>7.31</td>\n",
       "      <td>7.22</td>\n",
       "      <td>1.41</td>\n",
       "    </tr>\n",
       "    <tr>\n",
       "      <td>24067</td>\n",
       "      <td>2.00</td>\n",
       "      <td>58.9</td>\n",
       "      <td>57.0</td>\n",
       "      <td>8.09</td>\n",
       "      <td>58.90</td>\n",
       "      <td>8.06</td>\n",
       "    </tr>\n",
       "    <tr>\n",
       "      <td>24520</td>\n",
       "      <td>1.56</td>\n",
       "      <td>62.2</td>\n",
       "      <td>54.0</td>\n",
       "      <td>0.00</td>\n",
       "      <td>0.00</td>\n",
       "      <td>0.00</td>\n",
       "    </tr>\n",
       "    <tr>\n",
       "      <td>26243</td>\n",
       "      <td>1.20</td>\n",
       "      <td>62.1</td>\n",
       "      <td>59.0</td>\n",
       "      <td>0.00</td>\n",
       "      <td>0.00</td>\n",
       "      <td>0.00</td>\n",
       "    </tr>\n",
       "    <tr>\n",
       "      <td>27429</td>\n",
       "      <td>2.25</td>\n",
       "      <td>62.8</td>\n",
       "      <td>59.0</td>\n",
       "      <td>0.00</td>\n",
       "      <td>0.00</td>\n",
       "      <td>0.00</td>\n",
       "    </tr>\n",
       "    <tr>\n",
       "      <td>48410</td>\n",
       "      <td>0.51</td>\n",
       "      <td>61.8</td>\n",
       "      <td>54.7</td>\n",
       "      <td>5.12</td>\n",
       "      <td>5.15</td>\n",
       "      <td>31.80</td>\n",
       "    </tr>\n",
       "    <tr>\n",
       "      <td>49189</td>\n",
       "      <td>0.51</td>\n",
       "      <td>61.8</td>\n",
       "      <td>55.0</td>\n",
       "      <td>5.15</td>\n",
       "      <td>31.80</td>\n",
       "      <td>5.12</td>\n",
       "    </tr>\n",
       "    <tr>\n",
       "      <td>49905</td>\n",
       "      <td>0.50</td>\n",
       "      <td>63.7</td>\n",
       "      <td>58.0</td>\n",
       "      <td>5.01</td>\n",
       "      <td>5.04</td>\n",
       "      <td>5.06</td>\n",
       "    </tr>\n",
       "  </tbody>\n",
       "</table>\n",
       "</div>"
      ],
      "text/plain": [
       "       carat  depth  table     x      y      z\n",
       "2274    1.22   62.6   59.0  6.79   4.24   3.76\n",
       "4791    1.10   63.0   59.0  6.50   6.47   0.00\n",
       "11182   1.07   61.6   56.0  0.00   6.62   0.00\n",
       "14635   1.07   60.6   57.0  6.62   6.67   1.07\n",
       "15235   1.12   61.6   58.0  6.64   4.11   3.70\n",
       "20694   1.53   61.9   54.0  7.43   7.50   1.53\n",
       "21654   1.41   60.7   56.0  7.31   7.22   1.41\n",
       "24067   2.00   58.9   57.0  8.09  58.90   8.06\n",
       "24520   1.56   62.2   54.0  0.00   0.00   0.00\n",
       "26243   1.20   62.1   59.0  0.00   0.00   0.00\n",
       "27429   2.25   62.8   59.0  0.00   0.00   0.00\n",
       "48410   0.51   61.8   54.7  5.12   5.15  31.80\n",
       "49189   0.51   61.8   55.0  5.15  31.80   5.12\n",
       "49905   0.50   63.7   58.0  5.01   5.04   5.06"
      ]
     },
     "execution_count": 82,
     "metadata": {},
     "output_type": "execute_result"
    }
   ],
   "source": [
    "df[~aykiri_tf] #bu yapıya uygulamamız lazım\n"
   ]
  },
  {
   "cell_type": "code",
   "execution_count": 87,
   "metadata": {},
   "outputs": [
    {
     "data": {
      "text/html": [
       "<div>\n",
       "<style scoped>\n",
       "    .dataframe tbody tr th:only-of-type {\n",
       "        vertical-align: middle;\n",
       "    }\n",
       "\n",
       "    .dataframe tbody tr th {\n",
       "        vertical-align: top;\n",
       "    }\n",
       "\n",
       "    .dataframe thead th {\n",
       "        text-align: right;\n",
       "    }\n",
       "</style>\n",
       "<table border=\"1\" class=\"dataframe\">\n",
       "  <thead>\n",
       "    <tr style=\"text-align: right;\">\n",
       "      <th></th>\n",
       "      <th>carat</th>\n",
       "      <th>depth</th>\n",
       "      <th>table</th>\n",
       "      <th>x</th>\n",
       "      <th>y</th>\n",
       "      <th>z</th>\n",
       "    </tr>\n",
       "  </thead>\n",
       "  <tbody>\n",
       "    <tr>\n",
       "      <td>2274</td>\n",
       "      <td>1.53</td>\n",
       "      <td>61.9</td>\n",
       "      <td>54.0</td>\n",
       "      <td>7.43</td>\n",
       "      <td>7.5</td>\n",
       "      <td>1.53</td>\n",
       "    </tr>\n",
       "    <tr>\n",
       "      <td>4791</td>\n",
       "      <td>1.53</td>\n",
       "      <td>61.9</td>\n",
       "      <td>54.0</td>\n",
       "      <td>7.43</td>\n",
       "      <td>7.5</td>\n",
       "      <td>1.53</td>\n",
       "    </tr>\n",
       "    <tr>\n",
       "      <td>11182</td>\n",
       "      <td>1.53</td>\n",
       "      <td>61.9</td>\n",
       "      <td>54.0</td>\n",
       "      <td>7.43</td>\n",
       "      <td>7.5</td>\n",
       "      <td>1.53</td>\n",
       "    </tr>\n",
       "    <tr>\n",
       "      <td>14635</td>\n",
       "      <td>1.53</td>\n",
       "      <td>61.9</td>\n",
       "      <td>54.0</td>\n",
       "      <td>7.43</td>\n",
       "      <td>7.5</td>\n",
       "      <td>1.53</td>\n",
       "    </tr>\n",
       "    <tr>\n",
       "      <td>15235</td>\n",
       "      <td>1.53</td>\n",
       "      <td>61.9</td>\n",
       "      <td>54.0</td>\n",
       "      <td>7.43</td>\n",
       "      <td>7.5</td>\n",
       "      <td>1.53</td>\n",
       "    </tr>\n",
       "    <tr>\n",
       "      <td>20694</td>\n",
       "      <td>1.53</td>\n",
       "      <td>61.9</td>\n",
       "      <td>54.0</td>\n",
       "      <td>7.43</td>\n",
       "      <td>7.5</td>\n",
       "      <td>1.53</td>\n",
       "    </tr>\n",
       "    <tr>\n",
       "      <td>21654</td>\n",
       "      <td>1.53</td>\n",
       "      <td>61.9</td>\n",
       "      <td>54.0</td>\n",
       "      <td>7.43</td>\n",
       "      <td>7.5</td>\n",
       "      <td>1.53</td>\n",
       "    </tr>\n",
       "    <tr>\n",
       "      <td>24067</td>\n",
       "      <td>1.53</td>\n",
       "      <td>61.9</td>\n",
       "      <td>54.0</td>\n",
       "      <td>7.43</td>\n",
       "      <td>7.5</td>\n",
       "      <td>1.53</td>\n",
       "    </tr>\n",
       "    <tr>\n",
       "      <td>24520</td>\n",
       "      <td>1.53</td>\n",
       "      <td>61.9</td>\n",
       "      <td>54.0</td>\n",
       "      <td>7.43</td>\n",
       "      <td>7.5</td>\n",
       "      <td>1.53</td>\n",
       "    </tr>\n",
       "    <tr>\n",
       "      <td>26243</td>\n",
       "      <td>1.53</td>\n",
       "      <td>61.9</td>\n",
       "      <td>54.0</td>\n",
       "      <td>7.43</td>\n",
       "      <td>7.5</td>\n",
       "      <td>1.53</td>\n",
       "    </tr>\n",
       "    <tr>\n",
       "      <td>27429</td>\n",
       "      <td>1.53</td>\n",
       "      <td>61.9</td>\n",
       "      <td>54.0</td>\n",
       "      <td>7.43</td>\n",
       "      <td>7.5</td>\n",
       "      <td>1.53</td>\n",
       "    </tr>\n",
       "    <tr>\n",
       "      <td>48410</td>\n",
       "      <td>1.53</td>\n",
       "      <td>61.9</td>\n",
       "      <td>54.0</td>\n",
       "      <td>7.43</td>\n",
       "      <td>7.5</td>\n",
       "      <td>1.53</td>\n",
       "    </tr>\n",
       "    <tr>\n",
       "      <td>49189</td>\n",
       "      <td>1.53</td>\n",
       "      <td>61.9</td>\n",
       "      <td>54.0</td>\n",
       "      <td>7.43</td>\n",
       "      <td>7.5</td>\n",
       "      <td>1.53</td>\n",
       "    </tr>\n",
       "    <tr>\n",
       "      <td>49905</td>\n",
       "      <td>1.53</td>\n",
       "      <td>61.9</td>\n",
       "      <td>54.0</td>\n",
       "      <td>7.43</td>\n",
       "      <td>7.5</td>\n",
       "      <td>1.53</td>\n",
       "    </tr>\n",
       "  </tbody>\n",
       "</table>\n",
       "</div>"
      ],
      "text/plain": [
       "       carat  depth  table     x    y     z\n",
       "2274    1.53   61.9   54.0  7.43  7.5  1.53\n",
       "4791    1.53   61.9   54.0  7.43  7.5  1.53\n",
       "11182   1.53   61.9   54.0  7.43  7.5  1.53\n",
       "14635   1.53   61.9   54.0  7.43  7.5  1.53\n",
       "15235   1.53   61.9   54.0  7.43  7.5  1.53\n",
       "20694   1.53   61.9   54.0  7.43  7.5  1.53\n",
       "21654   1.53   61.9   54.0  7.43  7.5  1.53\n",
       "24067   1.53   61.9   54.0  7.43  7.5  1.53\n",
       "24520   1.53   61.9   54.0  7.43  7.5  1.53\n",
       "26243   1.53   61.9   54.0  7.43  7.5  1.53\n",
       "27429   1.53   61.9   54.0  7.43  7.5  1.53\n",
       "48410   1.53   61.9   54.0  7.43  7.5  1.53\n",
       "49189   1.53   61.9   54.0  7.43  7.5  1.53\n",
       "49905   1.53   61.9   54.0  7.43  7.5  1.53"
      ]
     },
     "execution_count": 87,
     "metadata": {},
     "output_type": "execute_result"
    }
   ],
   "source": [
    "import pandas as pd\n",
    "\n",
    "df[~aykiri_tf] = pd.DataFrame(res , index = df[~aykiri_tf].index)\n",
    "df[~aykiri_tf]"
   ]
  },
  {
   "cell_type": "code",
   "execution_count": null,
   "metadata": {},
   "outputs": [],
   "source": []
  },
  {
   "cell_type": "code",
   "execution_count": 46,
   "metadata": {},
   "outputs": [
    {
     "name": "stdout",
     "output_type": "stream",
     "text": [
      "(200, 2)\n",
      "[[81.49014246 79.5852071 ]\n",
      " [81.94306561 84.56908957]\n",
      " [79.29753988 79.29758913]]\n"
     ]
    }
   ],
   "source": [
    "import numpy as np \n",
    "import pandas as pd \n",
    "import matplotlib.pyplot as plt\n",
    "from sklearn.neighbors import LocalOutlierFactor\n",
    "\n",
    "np.random.seed(42)\n",
    "X_inliers = np.random.normal(70 , 3 ,(100,2))\n",
    "X_inliers = np.r_[X_inliers + 10 ,X_inliers -10] #r fonknksiyonu indeksiz işlem yapmak için\n",
    "\n",
    "print(X_inliers.shape)\n",
    "print(X_inliers[:3 ,:2])\n"
   ]
  },
  {
   "cell_type": "code",
   "execution_count": null,
   "metadata": {},
   "outputs": [],
   "source": []
  },
  {
   "cell_type": "code",
   "execution_count": 26,
   "metadata": {},
   "outputs": [
    {
     "data": {
      "text/plain": [
       "array([[ 98.50050338, 127.22298914],\n",
       "       [ 74.37454005,  52.13999439],\n",
       "       [106.4464124 ,  46.1457089 ],\n",
       "       [ 65.48171338,  24.02248385],\n",
       "       [ 17.91533549, 125.70456769],\n",
       "       [111.13771386,  95.0370337 ],\n",
       "       [ 62.02958861,  34.92884681],\n",
       "       [ 32.99025991,  43.77793329],\n",
       "       [ 78.16106644,  97.17853111],\n",
       "       [ 90.92269832,  47.19239815],\n",
       "       [124.80950728,  99.85814542],\n",
       "       [ 78.75071604,  85.34788582],\n",
       "       [ 63.25400718,  43.48906379],\n",
       "       [ 55.93685804, 102.1523027 ],\n",
       "       [ 16.65525119,  28.34835366],\n",
       "       [ 20.29030383,  19.68381227],\n",
       "       [113.37796716,  95.92065383],\n",
       "       [ 69.52999035,  26.25092847],\n",
       "       [ 71.53582564,  69.44925364],\n",
       "       [ 34.91821504,  64.89293966]])"
      ]
     },
     "execution_count": 26,
     "metadata": {},
     "output_type": "execute_result"
    }
   ],
   "source": [
    "X_outliers = np.random.uniform(low = 15 , high =130 , size = (20 ,2))\n",
    "# aykırı gözlem oluşturuyoruz\n",
    "\n",
    "X_outliers"
   ]
  },
  {
   "cell_type": "code",
   "execution_count": 29,
   "metadata": {},
   "outputs": [
    {
     "data": {
      "text/plain": [
       "array([[81.49014246, 79.5852071 ],\n",
       "       [81.94306561, 84.56908957],\n",
       "       [79.29753988, 79.29758913]])"
      ]
     },
     "execution_count": 29,
     "metadata": {},
     "output_type": "execute_result"
    }
   ],
   "source": [
    "X = np.r_[X_inliers ,X_outliers]\n",
    "# burada iki arrayı birleştiriyoruz,\n",
    "X[0:3 , :]"
   ]
  },
  {
   "cell_type": "code",
   "execution_count": 35,
   "metadata": {},
   "outputs": [
    {
     "data": {
      "text/plain": [
       "LocalOutlierFactor(algorithm='auto', contamination=0.1, leaf_size=30,\n",
       "                   metric='minkowski', metric_params=None, n_jobs=None,\n",
       "                   n_neighbors=20, novelty=False, p=2)"
      ]
     },
     "execution_count": 35,
     "metadata": {},
     "output_type": "execute_result"
    }
   ],
   "source": [
    "LOF = LocalOutlierFactor(n_neighbors = 20 , contamination = 0.1)\n",
    "# n_neigbors = komşu sayısı \n",
    "LOF\n",
    "# Bu işlem model parametreleri belirleme işlemidir"
   ]
  },
  {
   "cell_type": "code",
   "execution_count": 36,
   "metadata": {},
   "outputs": [
    {
     "data": {
      "text/plain": [
       "array([ 1,  1,  1,  1,  1,  1,  1,  1,  1,  1,  1,  1,  1,  1,  1,  1,  1,\n",
       "        1,  1,  1,  1,  1,  1,  1,  1,  1,  1,  1,  1,  1,  1,  1,  1,  1,\n",
       "        1,  1,  1, -1,  1,  1,  1,  1,  1,  1,  1,  1,  1,  1,  1,  1,  1,\n",
       "        1,  1,  1,  1,  1,  1,  1,  1,  1,  1,  1,  1,  1,  1,  1,  1,  1,\n",
       "        1,  1,  1,  1,  1,  1,  1,  1,  1,  1,  1,  1,  1,  1,  1,  1,  1,\n",
       "        1,  1,  1,  1,  1,  1,  1,  1,  1,  1,  1,  1,  1,  1,  1,  1,  1,\n",
       "        1,  1,  1,  1,  1,  1,  1,  1,  1,  1,  1,  1,  1,  1,  1,  1,  1,\n",
       "        1,  1,  1,  1,  1,  1,  1,  1,  1,  1,  1,  1,  1,  1,  1,  1,  1,\n",
       "        1, -1,  1,  1,  1,  1,  1,  1,  1,  1,  1,  1,  1,  1,  1,  1,  1,\n",
       "        1,  1,  1,  1,  1,  1,  1,  1,  1,  1,  1,  1,  1,  1,  1,  1,  1,\n",
       "        1,  1,  1,  1,  1,  1,  1,  1,  1,  1,  1,  1,  1,  1,  1,  1,  1,\n",
       "        1,  1, -1,  1,  1,  1,  1,  1,  1,  1,  1,  1,  1, -1, -1, -1, -1,\n",
       "       -1, -1, -1, -1, -1, -1, -1,  1, -1, -1, -1, -1, -1, -1, -1, -1])"
      ]
     },
     "execution_count": 36,
     "metadata": {},
     "output_type": "execute_result"
    }
   ],
   "source": [
    "LOF.fit_predict(X)\n",
    "# evet içie gönderdiğimiz değerler ile score belirliyourz"
   ]
  },
  {
   "cell_type": "code",
   "execution_count": 39,
   "metadata": {},
   "outputs": [],
   "source": [
    "X_score = LOF.negative_outlier_factor_\n",
    "# evet kendilerinme özgü scorlar oluşturuyoruz "
   ]
  },
  {
   "cell_type": "code",
   "execution_count": 40,
   "metadata": {},
   "outputs": [
    {
     "data": {
      "text/plain": [
       "array([-0.99920793, -1.13553412, -0.97212675])"
      ]
     },
     "execution_count": 40,
     "metadata": {},
     "output_type": "execute_result"
    }
   ],
   "source": [
    "X_score[0:3]"
   ]
  },
  {
   "cell_type": "code",
   "execution_count": 41,
   "metadata": {},
   "outputs": [
    {
     "data": {
      "text/plain": [
       "-1.7101579751054918"
      ]
     },
     "execution_count": 41,
     "metadata": {},
     "output_type": "execute_result"
    }
   ],
   "source": [
    "X_score.mean()"
   ]
  },
  {
   "cell_type": "code",
   "execution_count": 42,
   "metadata": {},
   "outputs": [
    {
     "data": {
      "text/plain": [
       "2.2322650360725698"
      ]
     },
     "execution_count": 42,
     "metadata": {},
     "output_type": "execute_result"
    }
   ],
   "source": [
    "X_score.std()"
   ]
  },
  {
   "cell_type": "code",
   "execution_count": 43,
   "metadata": {},
   "outputs": [
    {
     "data": {
      "text/plain": [
       "array([-17.44657527, -11.31523699, -10.82322569, -10.78627971,\n",
       "       -10.56355832, -10.25179385,  -8.97349375,  -8.69612432,\n",
       "        -8.59342773,  -8.55970472])"
      ]
     },
     "execution_count": 43,
     "metadata": {},
     "output_type": "execute_result"
    }
   ],
   "source": [
    "np.sort(X_score)[:10]"
   ]
  },
  {
   "cell_type": "code",
   "execution_count": 50,
   "metadata": {},
   "outputs": [
    {
     "data": {
      "image/png": "[encoded data removed]",
      "text/plain": [
       "<Figure size 432x288 with 1 Axes>"
      ]
     },
     "metadata": {
      "needs_background": "light"
     },
     "output_type": "display_data"
    }
   ],
   "source": [
    "plt.hist(X_score , bins = \"auto\" ,density = True)\n",
    "plt.show()"
   ]
  },
  {
   "cell_type": "code",
   "execution_count": 61,
   "metadata": {},
   "outputs": [
    {
     "data": {
      "image/png": "[encoded data removed]",
      "text/plain": [
       "<Figure size 432x288 with 1 Axes>"
      ]
     },
     "metadata": {
      "needs_background": "light"
     },
     "output_type": "display_data"
    }
   ],
   "source": [
    "plt.scatter(x = X[: ,0] ,y = X[:,1] ,color = \"k\" ,s=3 );\n",
    "# s = nokto boyutu"
   ]
  },
  {
   "cell_type": "code",
   "execution_count": 64,
   "metadata": {
    "collapsed": true,
    "jupyter": {
     "outputs_hidden": true
    }
   },
   "outputs": [
    {
     "data": {
      "text/plain": [
       "array([ -0.99920793,  -1.13553412,  -0.97212675,  -1.32791607,\n",
       "        -0.96972687,  -0.96802782,  -1.1805622 ,  -1.19791797,\n",
       "        -1.01579889,  -1.15267042,  -1.2201011 ,  -1.05831363,\n",
       "        -0.97114708,  -1.02682711,  -0.96154064,  -1.29456713,\n",
       "        -1.01699286,  -1.10234974,  -1.19346895,  -1.05776887,\n",
       "        -1.05003045,  -0.96442079,  -1.15370196,  -1.04367008,\n",
       "        -1.13388154,  -0.97715087,  -0.98000248,  -1.1355711 ,\n",
       "        -0.98956357,  -1.02127897,  -0.95728791,  -1.16047442,\n",
       "        -1.13480421,  -0.98898424,  -0.99185635,  -1.11530981,\n",
       "        -1.12335025,  -1.93473522,  -0.95681998,  -1.19901531,\n",
       "        -0.94274169,  -1.25772079,  -1.01278495,  -1.1176248 ,\n",
       "        -0.98406477,  -0.98958804,  -0.97848957,  -1.1047896 ,\n",
       "        -0.99278983,  -0.96275604,  -1.09594137,  -0.97642952,\n",
       "        -0.94886824,  -1.43916596,  -0.963528  ,  -1.28645716,\n",
       "        -1.44871535,  -0.9450553 ,  -1.04606649,  -1.17036587,\n",
       "        -1.0681155 ,  -1.29733998,  -1.3158382 ,  -1.06447487,\n",
       "        -0.96507061,  -1.09938542,  -1.02860508,  -1.23992992,\n",
       "        -0.97400916,  -1.10260813,  -1.09980532,  -1.13303113,\n",
       "        -0.97849733,  -1.2515635 ,  -1.01044345,  -0.98584638,\n",
       "        -0.98115988,  -0.99020516,  -1.46330801,  -1.07570426,\n",
       "        -1.06137849,  -1.21649105,  -1.11225221,  -1.22764239,\n",
       "        -0.97029882,  -1.08183888,  -0.94680902,  -0.99595339,\n",
       "        -1.11084091,  -1.62995044,  -1.04597462,  -1.03069079,\n",
       "        -0.95159536,  -0.99616246,  -1.15334842,  -0.99344148,\n",
       "        -1.05218301,  -0.96996655,  -1.01282489,  -1.04780755,\n",
       "        -0.99920793,  -1.15101418,  -0.97212675,  -1.32659542,\n",
       "        -0.96943838,  -0.96802782,  -1.1805622 ,  -1.19791797,\n",
       "        -1.01529652,  -1.15267042,  -1.21993084,  -1.05831363,\n",
       "        -0.97110275,  -1.02631261,  -0.96154064,  -1.33936984,\n",
       "        -1.01699286,  -1.10234974,  -1.19346895,  -1.05737435,\n",
       "        -1.04856181,  -0.96442079,  -1.15370196,  -1.04909785,\n",
       "        -1.13388154,  -0.97715087,  -0.97998371,  -1.13640206,\n",
       "        -0.98956357,  -1.02655895,  -0.95728791,  -1.16047442,\n",
       "        -1.13950345,  -0.99496821,  -0.99185635,  -1.14469959,\n",
       "        -1.15329396,  -1.93321727,  -0.95681998,  -1.19901531,\n",
       "        -0.94185764,  -1.25760245,  -1.01278495,  -1.11585158,\n",
       "        -0.9840512 ,  -0.99559016,  -0.97848957,  -1.1047896 ,\n",
       "        -0.99211614,  -0.96275604,  -1.09594137,  -0.97642952,\n",
       "        -0.9472918 ,  -1.43783273,  -0.963528  ,  -1.28600243,\n",
       "        -1.48832214,  -0.94456349,  -1.04606649,  -1.16681127,\n",
       "        -1.0681155 ,  -1.29733998,  -1.37714337,  -1.06447487,\n",
       "        -0.96507061,  -1.09900693,  -1.02870987,  -1.27566788,\n",
       "        -0.97400916,  -1.10260813,  -1.11146753,  -1.13262118,\n",
       "        -0.98258158,  -1.2515635 ,  -1.00932867,  -0.98433097,\n",
       "        -0.98095197,  -0.99020516,  -1.45931142,  -1.079111  ,\n",
       "        -1.06523549,  -1.21649105,  -1.10992263,  -1.26309502,\n",
       "        -0.97029882,  -1.08183888,  -0.94565067,  -0.99909148,\n",
       "        -1.14191514,  -1.69263105,  -1.04597462,  -1.03079579,\n",
       "        -0.95042247,  -0.99616246,  -1.15334842,  -0.99423553,\n",
       "        -1.05218301,  -0.96807723,  -1.01245463,  -1.04780755,\n",
       "       -10.25179385,  -3.87126381, -10.78627971,  -8.09476429,\n",
       "       -17.44657527,  -8.59342773,  -5.68856681,  -8.55970472,\n",
       "        -4.18871151,  -6.6612096 , -10.56355832,  -1.24501794,\n",
       "        -3.90179121,  -8.97349375, -11.31523699, -10.82322569,\n",
       "        -8.69612432,  -7.28259818,  -2.92612572,  -7.49447091])"
      ]
     },
     "execution_count": 64,
     "metadata": {},
     "output_type": "execute_result"
    }
   ],
   "source": [
    "X_score"
   ]
  },
  {
   "cell_type": "code",
   "execution_count": 68,
   "metadata": {
    "collapsed": true,
    "jupyter": {
     "outputs_hidden": true
    }
   },
   "outputs": [
    {
     "data": {
      "text/plain": [
       "array([5.73502929e-02, 1.93676483e-01, 3.02691119e-02, 3.86058435e-01,\n",
       "       2.78692326e-02, 2.61701811e-02, 2.38704560e-01, 2.56060331e-01,\n",
       "       7.39412515e-02, 2.10812779e-01, 2.78243465e-01, 1.16455992e-01,\n",
       "       2.92894377e-02, 8.49694671e-02, 1.96829986e-02, 3.52709495e-01,\n",
       "       7.51352229e-02, 1.60492100e-01, 2.51611312e-01, 1.15911229e-01,\n",
       "       1.08172809e-01, 2.25631499e-02, 2.11844323e-01, 1.01812440e-01,\n",
       "       1.92023897e-01, 3.52932323e-02, 3.81448441e-02, 1.93713457e-01,\n",
       "       4.77059327e-02, 7.94213267e-02, 1.54302756e-02, 2.18616786e-01,\n",
       "       1.92946567e-01, 4.71266047e-02, 4.99987098e-02, 1.73452176e-01,\n",
       "       1.81492611e-01, 9.92877578e-01, 1.49623445e-02, 2.57157668e-01,\n",
       "       8.84047042e-04, 3.15863148e-01, 7.09273089e-02, 1.75767163e-01,\n",
       "       4.22071309e-02, 4.77304016e-02, 3.66319312e-02, 1.62931964e-01,\n",
       "       5.09321959e-02, 2.08984009e-02, 1.54083728e-01, 3.45718803e-02,\n",
       "       7.01060514e-03, 4.97308324e-01, 2.16703628e-02, 3.44599524e-01,\n",
       "       5.06857714e-01, 3.19766433e-03, 1.04208850e-01, 2.28508230e-01,\n",
       "       1.26257866e-01, 3.55482336e-01, 3.73980560e-01, 1.22617234e-01,\n",
       "       2.32129689e-02, 1.57527782e-01, 8.67474369e-02, 2.98072285e-01,\n",
       "       3.21515208e-02, 1.60750492e-01, 1.57947677e-01, 1.91173496e-01,\n",
       "       3.66396961e-02, 3.09705861e-01, 6.85858087e-02, 4.39887393e-02,\n",
       "       3.93022417e-02, 4.83475214e-02, 5.21450367e-01, 1.33846622e-01,\n",
       "       1.19520846e-01, 2.74633408e-01, 1.70394571e-01, 2.85784755e-01,\n",
       "       2.84411771e-02, 1.39981240e-01, 4.95137815e-03, 5.40957485e-02,\n",
       "       1.68983268e-01, 6.88092799e-01, 1.04116976e-01, 8.88331550e-02,\n",
       "       9.73771899e-03, 5.43048194e-02, 2.11490781e-01, 5.15838372e-02,\n",
       "       1.10325375e-01, 2.81089140e-02, 7.09672536e-02, 1.05949912e-01,\n",
       "       5.73502929e-02, 2.09156542e-01, 3.02691119e-02, 3.84737785e-01,\n",
       "       2.75807426e-02, 2.61701811e-02, 2.38704560e-01, 2.56060331e-01,\n",
       "       7.34388810e-02, 2.10812779e-01, 2.78073199e-01, 1.16455992e-01,\n",
       "       2.92451154e-02, 8.44549672e-02, 1.96829986e-02, 3.97512203e-01,\n",
       "       7.51352229e-02, 1.60492100e-01, 2.51611312e-01, 1.15516716e-01,\n",
       "       1.06704172e-01, 2.25631499e-02, 2.11844323e-01, 1.07240216e-01,\n",
       "       1.92023897e-01, 3.52932323e-02, 3.81260719e-02, 1.94544421e-01,\n",
       "       4.77059327e-02, 8.47013089e-02, 1.54302756e-02, 2.18616786e-01,\n",
       "       1.97645815e-01, 5.31105681e-02, 4.99987098e-02, 2.02841952e-01,\n",
       "       2.11436321e-01, 9.91359630e-01, 1.49623445e-02, 2.57157668e-01,\n",
       "       0.00000000e+00, 3.15744813e-01, 7.09273089e-02, 1.73993945e-01,\n",
       "       4.21935617e-02, 5.37325206e-02, 3.66319312e-02, 1.62931964e-01,\n",
       "       5.02585048e-02, 2.08984009e-02, 1.54083728e-01, 3.45718803e-02,\n",
       "       5.43415913e-03, 4.95975091e-01, 2.16703628e-02, 3.44144791e-01,\n",
       "       5.46464497e-01, 2.70585280e-03, 1.04208850e-01, 2.24953631e-01,\n",
       "       1.26257866e-01, 3.55482336e-01, 4.35285736e-01, 1.22617234e-01,\n",
       "       2.32129689e-02, 1.57149287e-01, 8.68522312e-02, 3.33810238e-01,\n",
       "       3.21515208e-02, 1.60750492e-01, 1.69609895e-01, 1.90763543e-01,\n",
       "       4.07239379e-02, 3.09705861e-01, 6.74710360e-02, 4.24733323e-02,\n",
       "       3.90943342e-02, 4.83475214e-02, 5.17453778e-01, 1.37253357e-01,\n",
       "       1.23377850e-01, 2.74633408e-01, 1.68064994e-01, 3.21237382e-01,\n",
       "       2.84411771e-02, 1.39981240e-01, 3.79303336e-03, 5.72338441e-02,\n",
       "       2.00057504e-01, 7.50773407e-01, 1.04116976e-01, 8.89381521e-02,\n",
       "       8.56482950e-03, 5.43048194e-02, 2.11490781e-01, 5.23778960e-02,\n",
       "       1.10325375e-01, 2.62195890e-02, 7.05969963e-02, 1.05949912e-01,\n",
       "       9.30993621e+00, 2.92940617e+00, 9.84442207e+00, 7.15290665e+00,\n",
       "       1.65047176e+01, 7.65157009e+00, 4.74670917e+00, 7.61784708e+00,\n",
       "       3.24685387e+00, 5.71935196e+00, 9.62170068e+00, 3.03160304e-01,\n",
       "       2.95993357e+00, 8.03163612e+00, 1.03733794e+01, 9.88136805e+00,\n",
       "       7.75426668e+00, 6.34074054e+00, 1.98426808e+00, 6.55261327e+00])"
      ]
     },
     "execution_count": 68,
     "metadata": {},
     "output_type": "execute_result"
    }
   ],
   "source": [
    "X_score.max() - X_score  # evet cortları pozitif yaptık "
   ]
  },
  {
   "cell_type": "code",
   "execution_count": 66,
   "metadata": {},
   "outputs": [
    {
     "data": {
      "text/plain": [
       "16.504717633107266"
      ]
     },
     "execution_count": 66,
     "metadata": {},
     "output_type": "execute_result"
    }
   ],
   "source": [
    "X_score.max() - X_score.min()"
   ]
  },
  {
   "cell_type": "code",
   "execution_count": 80,
   "metadata": {},
   "outputs": [],
   "source": [
    "radius = radius = (X_score.max() - X_score) / (X_score.max() - X_score.min())"
   ]
  },
  {
   "cell_type": "code",
   "execution_count": 81,
   "metadata": {},
   "outputs": [
    {
     "data": {
      "text/plain": [
       "array([3.47478183e-03, 1.17346135e-02, 1.83396727e-03, 2.33907931e-02,\n",
       "       1.68856161e-03, 1.58561823e-03, 1.44628078e-02, 1.55143721e-02,\n",
       "       4.48000706e-03, 1.27728801e-02, 1.68584202e-02, 7.05592151e-03,\n",
       "       1.77461004e-03, 5.14819271e-03, 1.19256803e-03, 2.13702229e-02,\n",
       "       4.55234828e-03, 9.72401365e-03, 1.52448117e-02, 7.02291498e-03,\n",
       "       6.55405391e-03, 1.36707276e-03, 1.28353800e-02, 6.16868718e-03,\n",
       "       1.16344854e-02, 2.13837238e-03, 2.31114793e-03, 1.17368538e-02,\n",
       "       2.89044222e-03, 4.81203790e-03, 9.34900914e-04, 1.32457150e-02,\n",
       "       1.16903889e-02, 2.85534147e-03, 3.02935869e-03, 1.05092483e-02,\n",
       "       1.09964081e-02, 6.01571987e-02, 9.06549558e-04, 1.55808584e-02,\n",
       "       5.35632939e-05, 1.91377493e-02, 4.29739608e-03, 1.06495105e-02,\n",
       "       2.55727676e-03, 2.89192476e-03, 2.21948245e-03, 9.87184196e-03,\n",
       "       3.08591743e-03, 1.26620772e-03, 9.33573851e-03, 2.09466657e-03,\n",
       "       4.24763713e-04, 3.01312834e-02, 1.31297992e-03, 2.08788500e-02,\n",
       "       3.07098689e-02, 1.93742444e-04, 6.31388266e-03, 1.38450251e-02,\n",
       "       7.64980466e-03, 2.15382259e-02, 2.26590099e-02, 7.42922337e-03,\n",
       "       1.40644447e-03, 9.54440942e-03, 5.25591766e-03, 1.80598233e-02,\n",
       "       1.94802005e-03, 9.73966931e-03, 9.56985033e-03, 1.15829607e-02,\n",
       "       2.21995292e-03, 1.87646870e-02, 4.15552754e-03, 2.66522217e-03,\n",
       "       2.38127319e-03, 2.92931527e-03, 3.15940193e-02, 8.10959783e-03,\n",
       "       7.24161716e-03, 1.66396914e-02, 1.03239919e-02, 1.73153374e-02,\n",
       "       1.72321500e-03, 8.48128656e-03, 2.99997750e-04, 3.27759309e-03,\n",
       "       1.02384829e-02, 4.16906738e-02, 6.30831612e-03, 5.38228869e-03,\n",
       "       5.89996097e-04, 3.29026044e-03, 1.28139593e-02, 3.12539956e-03,\n",
       "       6.68447516e-03, 1.70308361e-03, 4.29981628e-03, 6.41937140e-03,\n",
       "       3.47478183e-03, 1.26725308e-02, 1.83396727e-03, 2.33107765e-02,\n",
       "       1.67108237e-03, 1.58561823e-03, 1.44628078e-02, 1.55143721e-02,\n",
       "       4.44956907e-03, 1.27728801e-02, 1.68481040e-02, 7.05592151e-03,\n",
       "       1.77192461e-03, 5.11701982e-03, 1.19256803e-03, 2.40847624e-02,\n",
       "       4.55234828e-03, 9.72401365e-03, 1.52448117e-02, 6.99901193e-03,\n",
       "       6.46507104e-03, 1.36707276e-03, 1.28353800e-02, 6.49754925e-03,\n",
       "       1.16344854e-02, 2.13837238e-03, 2.31001055e-03, 1.17872008e-02,\n",
       "       2.89044222e-03, 5.13194535e-03, 9.34900914e-04, 1.32457150e-02,\n",
       "       1.19751104e-02, 3.21790226e-03, 3.02935869e-03, 1.22899377e-02,\n",
       "       1.28106597e-02, 6.00652282e-02, 9.06549558e-04, 1.55808584e-02,\n",
       "       0.00000000e+00, 1.91305795e-02, 4.29739608e-03, 1.05420734e-02,\n",
       "       2.55645463e-03, 3.25558557e-03, 2.21948245e-03, 9.87184196e-03,\n",
       "       3.04509934e-03, 1.26620772e-03, 9.33573851e-03, 2.09466657e-03,\n",
       "       3.29248840e-04, 3.00505045e-02, 1.31297992e-03, 2.08512983e-02,\n",
       "       3.31095938e-02, 1.63944205e-04, 6.31388266e-03, 1.36296565e-02,\n",
       "       7.64980466e-03, 2.15382259e-02, 2.63734131e-02, 7.42922337e-03,\n",
       "       1.40644447e-03, 9.52147689e-03, 5.26226702e-03, 2.02251408e-02,\n",
       "       1.94802005e-03, 9.73966931e-03, 1.02764493e-02, 1.15581222e-02,\n",
       "       2.46741198e-03, 1.87646870e-02, 4.08798487e-03, 2.57340557e-03,\n",
       "       2.36867634e-03, 2.92931527e-03, 3.13518710e-02, 8.31600756e-03,\n",
       "       7.47530816e-03, 1.66396914e-02, 1.01828457e-02, 1.94633673e-02,\n",
       "       1.72321500e-03, 8.48128656e-03, 2.29815102e-04, 3.46772634e-03,\n",
       "       1.21212315e-02, 4.54884127e-02, 6.30831612e-03, 5.38865033e-03,\n",
       "       5.18932204e-04, 3.29026044e-03, 1.28139593e-02, 3.17351058e-03,\n",
       "       6.68447516e-03, 1.58861179e-03, 4.27738286e-03, 6.41937140e-03,\n",
       "       5.64077279e-01, 1.77489021e-01, 5.96461102e-01, 4.33385582e-01,\n",
       "       1.00000000e+00, 4.63598970e-01, 2.87597115e-01, 4.61555735e-01,\n",
       "       1.96722776e-01, 3.46528313e-01, 5.82966694e-01, 1.83681000e-02,\n",
       "       1.79338638e-01, 4.86626690e-01, 6.28509956e-01, 5.98699613e-01,\n",
       "       4.69821226e-01, 3.84177463e-01, 1.20224297e-01, 3.97014564e-01])"
      ]
     },
     "execution_count": 81,
     "metadata": {},
     "output_type": "execute_result"
    }
   ],
   "source": [
    "radius"
   ]
  },
  {
   "cell_type": "code",
   "execution_count": 82,
   "metadata": {},
   "outputs": [
    {
     "data": {
      "image/png": "[encoded data removed]",
      "text/plain": [
       "<Figure size 432x288 with 1 Axes>"
      ]
     },
     "metadata": {
      "needs_background": "light"
     },
     "output_type": "display_data"
    }
   ],
   "source": [
    "plt.scatter(X[:,0], X[:,1], color = \"k\", s = 3, label = \"Gözlem Birimleri\");\n",
    "\n",
    "plt.scatter(X[:, 0], X[:, 1], s = 1000 * radius, edgecolors='r', \n",
    "            facecolors='none',label='LOF Skorları')\n",
    "\n",
    "plt.xlim((10,100))\n",
    "plt.ylim((10,100))\n",
    "\n",
    "legend = plt.legend(loc = \"upper left\")\n",
    "\n",
    "legend.legendHandles[0]._sizes = [10]\n",
    "legend.legendHandles[1]._sizes = [30]\n"
   ]
  },
  {
   "cell_type": "code",
   "execution_count": 83,
   "metadata": {},
   "outputs": [
    {
     "data": {
      "text/plain": [
       "array([[81.49014246, 79.5852071 ],\n",
       "       [81.94306561, 84.56908957],\n",
       "       [79.29753988, 79.29758913]])"
      ]
     },
     "execution_count": 83,
     "metadata": {},
     "output_type": "execute_result"
    }
   ],
   "source": [
    "X[:3]"
   ]
  },
  {
   "cell_type": "code",
   "execution_count": 84,
   "metadata": {},
   "outputs": [
    {
     "data": {
      "text/plain": [
       "array([-17.44657527, -11.31523699, -10.82322569, -10.78627971,\n",
       "       -10.56355832, -10.25179385,  -8.97349375,  -8.69612432,\n",
       "        -8.59342773])"
      ]
     },
     "execution_count": 84,
     "metadata": {},
     "output_type": "execute_result"
    }
   ],
   "source": [
    "np.sort(X_score)[:9]"
   ]
  },
  {
   "cell_type": "code",
   "execution_count": 86,
   "metadata": {},
   "outputs": [
    {
     "data": {
      "text/plain": [
       "-8.55970472070754"
      ]
     },
     "execution_count": 86,
     "metadata": {},
     "output_type": "execute_result"
    }
   ],
   "source": [
    "esik_deger = np.sort(X_score)[9]\n",
    "esik_deger"
   ]
  },
  {
   "cell_type": "code",
   "execution_count": 88,
   "metadata": {},
   "outputs": [
    {
     "data": {
      "text/plain": [
       "array([ True,  True,  True,  True,  True,  True,  True,  True,  True,\n",
       "        True,  True,  True,  True,  True,  True,  True,  True,  True,\n",
       "        True,  True,  True,  True,  True,  True,  True,  True,  True,\n",
       "        True,  True,  True,  True,  True,  True,  True,  True,  True,\n",
       "        True,  True,  True,  True,  True,  True,  True,  True,  True,\n",
       "        True,  True,  True,  True,  True,  True,  True,  True,  True,\n",
       "        True,  True,  True,  True,  True,  True,  True,  True,  True,\n",
       "        True,  True,  True,  True,  True,  True,  True,  True,  True,\n",
       "        True,  True,  True,  True,  True,  True,  True,  True,  True,\n",
       "        True,  True,  True,  True,  True,  True,  True,  True,  True,\n",
       "        True,  True,  True,  True,  True,  True,  True,  True,  True,\n",
       "        True,  True,  True,  True,  True,  True,  True,  True,  True,\n",
       "        True,  True,  True,  True,  True,  True,  True,  True,  True,\n",
       "        True,  True,  True,  True,  True,  True,  True,  True,  True,\n",
       "        True,  True,  True,  True,  True,  True,  True,  True,  True,\n",
       "        True,  True,  True,  True,  True,  True,  True,  True,  True,\n",
       "        True,  True,  True,  True,  True,  True,  True,  True,  True,\n",
       "        True,  True,  True,  True,  True,  True,  True,  True,  True,\n",
       "        True,  True,  True,  True,  True,  True,  True,  True,  True,\n",
       "        True,  True,  True,  True,  True,  True,  True,  True,  True,\n",
       "        True,  True,  True,  True,  True,  True,  True,  True,  True,\n",
       "        True,  True,  True,  True,  True,  True,  True,  True,  True,\n",
       "        True,  True, False,  True, False,  True, False, False,  True,\n",
       "       False,  True,  True, False,  True,  True, False, False, False,\n",
       "       False,  True,  True,  True])"
      ]
     },
     "execution_count": 88,
     "metadata": {},
     "output_type": "execute_result"
    }
   ],
   "source": [
    "(X_score > esik_deger)"
   ]
  },
  {
   "cell_type": "code",
   "execution_count": 89,
   "metadata": {},
   "outputs": [],
   "source": [
    "tf_vektor = (X_score > esik_deger)"
   ]
  },
  {
   "cell_type": "code",
   "execution_count": 91,
   "metadata": {},
   "outputs": [
    {
     "data": {
      "text/plain": [
       "array([[ 98.50050338, 127.22298914],\n",
       "       [106.4464124 ,  46.1457089 ],\n",
       "       [ 17.91533549, 125.70456769],\n",
       "       [111.13771386,  95.0370337 ],\n",
       "       [ 32.99025991,  43.77793329],\n",
       "       [124.80950728,  99.85814542],\n",
       "       [ 55.93685804, 102.1523027 ],\n",
       "       [ 16.65525119,  28.34835366],\n",
       "       [ 20.29030383,  19.68381227],\n",
       "       [113.37796716,  95.92065383]])"
      ]
     },
     "execution_count": 91,
     "metadata": {},
     "output_type": "execute_result"
    }
   ],
   "source": [
    "X[~tf_vektor]\n",
    "# aykırı olmayanlar"
   ]
  },
  {
   "cell_type": "code",
   "execution_count": 92,
   "metadata": {},
   "outputs": [
    {
     "data": {
      "text/plain": [
       "array([[ 98.50050338, 127.22298914],\n",
       "       [106.4464124 ,  46.1457089 ],\n",
       "       [ 17.91533549, 125.70456769],\n",
       "       [111.13771386,  95.0370337 ],\n",
       "       [124.80950728,  99.85814542],\n",
       "       [ 55.93685804, 102.1523027 ],\n",
       "       [ 16.65525119,  28.34835366],\n",
       "       [ 20.29030383,  19.68381227],\n",
       "       [113.37796716,  95.92065383]])"
      ]
     },
     "execution_count": 92,
     "metadata": {},
     "output_type": "execute_result"
    }
   ],
   "source": [
    "X[X_score < esik_deger]"
   ]
  },
  {
   "cell_type": "code",
   "execution_count": null,
   "metadata": {},
   "outputs": [],
   "source": []
  }
 ],
 "metadata": {
  "kernelspec": {
   "display_name": "Python 3",
   "language": "python",
   "name": "python3"
  },
  "language_info": {
   "codemirror_mode": {
    "name": "ipython",
    "version": 3
   },
   "file_extension": ".py",
   "mimetype": "text/x-python",
   "name": "python",
   "nbconvert_exporter": "python",
   "pygments_lexer": "ipython3",
   "version": "3.7.4"
  }
 },
 "nbformat": 4,
 "nbformat_minor": 4
}
