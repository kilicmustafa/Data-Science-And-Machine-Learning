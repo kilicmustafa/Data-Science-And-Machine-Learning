{
 "cells": [
  {
   "cell_type": "code",
   "execution_count": null,
   "metadata": {},
   "outputs": [],
   "source": [
    "import numpy as np\n",
    "import pandas as pd \n",
    "v1 = np.array([1 ,3 ,6 ,np.NaN , 7 ,1 ,np.NaN ,9 , 15])\n",
    "v2 = np.array(7 ,np.NaN , 5 ,8 ,12 ,np.NaN ,np.NaN ,2 ,3)\n",
    "v3 = np.array(np.NaN ,12 ,5 ,6 ,14 ,7 ,np.NaN , 2 31)\n",
    "df = pd.DataFrame(\n",
    "    {\n",
    "        \"v1\" : v1,\n",
    "        \"v2\" : v2,\n",
    "        \"v3\" : v3\n",
    "        \n",
    "    }\n",
    "\n",
    ")"
   ]
  }
 ],
 "metadata": {
  "kernelspec": {
   "display_name": "Python 3",
   "language": "python",
   "name": "python3"
  },
  "language_info": {
   "codemirror_mode": {
    "name": "ipython",
    "version": 3
   },
   "file_extension": ".py",
   "mimetype": "text/x-python",
   "name": "python",
   "nbconvert_exporter": "python",
   "pygments_lexer": "ipython3",
   "version": "3.7.4"
  }
 },
 "nbformat": 4,
 "nbformat_minor": 4
}
