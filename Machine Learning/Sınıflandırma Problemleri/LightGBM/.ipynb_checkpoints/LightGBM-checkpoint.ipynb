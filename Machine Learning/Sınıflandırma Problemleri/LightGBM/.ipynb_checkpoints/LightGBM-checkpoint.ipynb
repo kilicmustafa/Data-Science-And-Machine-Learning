{
 "cells": [
  {
   "cell_type": "markdown",
   "metadata": {},
   "source": [
    "# Veri setinin yüklenmesi ve incelenmesi "
   ]
  },
  {
   "cell_type": "code",
   "execution_count": 55,
   "metadata": {},
   "outputs": [
    {
     "data": {
      "text/html": [
       "<div>\n",
       "<style scoped>\n",
       "    .dataframe tbody tr th:only-of-type {\n",
       "        vertical-align: middle;\n",
       "    }\n",
       "\n",
       "    .dataframe tbody tr th {\n",
       "        vertical-align: top;\n",
       "    }\n",
       "\n",
       "    .dataframe thead th {\n",
       "        text-align: right;\n",
       "    }\n",
       "</style>\n",
       "<table border=\"1\" class=\"dataframe\">\n",
       "  <thead>\n",
       "    <tr style=\"text-align: right;\">\n",
       "      <th></th>\n",
       "      <th>Pregnancies</th>\n",
       "      <th>Glucose</th>\n",
       "      <th>BloodPressure</th>\n",
       "      <th>SkinThickness</th>\n",
       "      <th>Insulin</th>\n",
       "      <th>BMI</th>\n",
       "      <th>DiabetesPedigreeFunction</th>\n",
       "      <th>Age</th>\n",
       "      <th>Outcome</th>\n",
       "    </tr>\n",
       "  </thead>\n",
       "  <tbody>\n",
       "    <tr>\n",
       "      <td>0</td>\n",
       "      <td>6</td>\n",
       "      <td>148</td>\n",
       "      <td>72</td>\n",
       "      <td>35</td>\n",
       "      <td>0</td>\n",
       "      <td>33.6</td>\n",
       "      <td>0.627</td>\n",
       "      <td>50</td>\n",
       "      <td>1</td>\n",
       "    </tr>\n",
       "    <tr>\n",
       "      <td>1</td>\n",
       "      <td>1</td>\n",
       "      <td>85</td>\n",
       "      <td>66</td>\n",
       "      <td>29</td>\n",
       "      <td>0</td>\n",
       "      <td>26.6</td>\n",
       "      <td>0.351</td>\n",
       "      <td>31</td>\n",
       "      <td>0</td>\n",
       "    </tr>\n",
       "    <tr>\n",
       "      <td>2</td>\n",
       "      <td>8</td>\n",
       "      <td>183</td>\n",
       "      <td>64</td>\n",
       "      <td>0</td>\n",
       "      <td>0</td>\n",
       "      <td>23.3</td>\n",
       "      <td>0.672</td>\n",
       "      <td>32</td>\n",
       "      <td>1</td>\n",
       "    </tr>\n",
       "    <tr>\n",
       "      <td>3</td>\n",
       "      <td>1</td>\n",
       "      <td>89</td>\n",
       "      <td>66</td>\n",
       "      <td>23</td>\n",
       "      <td>94</td>\n",
       "      <td>28.1</td>\n",
       "      <td>0.167</td>\n",
       "      <td>21</td>\n",
       "      <td>0</td>\n",
       "    </tr>\n",
       "    <tr>\n",
       "      <td>4</td>\n",
       "      <td>0</td>\n",
       "      <td>137</td>\n",
       "      <td>40</td>\n",
       "      <td>35</td>\n",
       "      <td>168</td>\n",
       "      <td>43.1</td>\n",
       "      <td>2.288</td>\n",
       "      <td>33</td>\n",
       "      <td>1</td>\n",
       "    </tr>\n",
       "  </tbody>\n",
       "</table>\n",
       "</div>"
      ],
      "text/plain": [
       "   Pregnancies  Glucose  BloodPressure  SkinThickness  Insulin   BMI  \\\n",
       "0            6      148             72             35        0  33.6   \n",
       "1            1       85             66             29        0  26.6   \n",
       "2            8      183             64              0        0  23.3   \n",
       "3            1       89             66             23       94  28.1   \n",
       "4            0      137             40             35      168  43.1   \n",
       "\n",
       "   DiabetesPedigreeFunction  Age  Outcome  \n",
       "0                     0.627   50        1  \n",
       "1                     0.351   31        0  \n",
       "2                     0.672   32        1  \n",
       "3                     0.167   21        0  \n",
       "4                     2.288   33        1  "
      ]
     },
     "execution_count": 55,
     "metadata": {},
     "output_type": "execute_result"
    }
   ],
   "source": [
    "import numpy as np\n",
    "import pandas as pd \n",
    "import seaborn as sns\n",
    "import matplotlib.pyplot as plt \n",
    "df = pd.read_csv(\"diabetes.csv\")\n",
    "df = df.copy()\n",
    "df.dropna(inplace = True)\n",
    "df.head(5)\n"
   ]
  },
  {
   "cell_type": "markdown",
   "metadata": {},
   "source": [
    " "
   ]
  },
  {
   "cell_type": "code",
   "execution_count": 56,
   "metadata": {},
   "outputs": [
    {
     "name": "stdout",
     "output_type": "stream",
     "text": [
      "<class 'pandas.core.frame.DataFrame'>\n",
      "Int64Index: 768 entries, 0 to 767\n",
      "Data columns (total 9 columns):\n",
      "Pregnancies                 768 non-null int64\n",
      "Glucose                     768 non-null int64\n",
      "BloodPressure               768 non-null int64\n",
      "SkinThickness               768 non-null int64\n",
      "Insulin                     768 non-null int64\n",
      "BMI                         768 non-null float64\n",
      "DiabetesPedigreeFunction    768 non-null float64\n",
      "Age                         768 non-null int64\n",
      "Outcome                     768 non-null int64\n",
      "dtypes: float64(2), int64(7)\n",
      "memory usage: 60.0 KB\n"
     ]
    }
   ],
   "source": [
    "df.info()"
   ]
  },
  {
   "cell_type": "code",
   "execution_count": 57,
   "metadata": {},
   "outputs": [
    {
     "data": {
      "text/html": [
       "<div>\n",
       "<style scoped>\n",
       "    .dataframe tbody tr th:only-of-type {\n",
       "        vertical-align: middle;\n",
       "    }\n",
       "\n",
       "    .dataframe tbody tr th {\n",
       "        vertical-align: top;\n",
       "    }\n",
       "\n",
       "    .dataframe thead th {\n",
       "        text-align: right;\n",
       "    }\n",
       "</style>\n",
       "<table border=\"1\" class=\"dataframe\">\n",
       "  <thead>\n",
       "    <tr style=\"text-align: right;\">\n",
       "      <th></th>\n",
       "      <th>count</th>\n",
       "      <th>mean</th>\n",
       "      <th>std</th>\n",
       "      <th>min</th>\n",
       "      <th>25%</th>\n",
       "      <th>50%</th>\n",
       "      <th>75%</th>\n",
       "      <th>max</th>\n",
       "    </tr>\n",
       "  </thead>\n",
       "  <tbody>\n",
       "    <tr>\n",
       "      <td>Pregnancies</td>\n",
       "      <td>768.0</td>\n",
       "      <td>3.845052</td>\n",
       "      <td>3.369578</td>\n",
       "      <td>0.000</td>\n",
       "      <td>1.00000</td>\n",
       "      <td>3.0000</td>\n",
       "      <td>6.00000</td>\n",
       "      <td>17.00</td>\n",
       "    </tr>\n",
       "    <tr>\n",
       "      <td>Glucose</td>\n",
       "      <td>768.0</td>\n",
       "      <td>120.894531</td>\n",
       "      <td>31.972618</td>\n",
       "      <td>0.000</td>\n",
       "      <td>99.00000</td>\n",
       "      <td>117.0000</td>\n",
       "      <td>140.25000</td>\n",
       "      <td>199.00</td>\n",
       "    </tr>\n",
       "    <tr>\n",
       "      <td>BloodPressure</td>\n",
       "      <td>768.0</td>\n",
       "      <td>69.105469</td>\n",
       "      <td>19.355807</td>\n",
       "      <td>0.000</td>\n",
       "      <td>62.00000</td>\n",
       "      <td>72.0000</td>\n",
       "      <td>80.00000</td>\n",
       "      <td>122.00</td>\n",
       "    </tr>\n",
       "    <tr>\n",
       "      <td>SkinThickness</td>\n",
       "      <td>768.0</td>\n",
       "      <td>20.536458</td>\n",
       "      <td>15.952218</td>\n",
       "      <td>0.000</td>\n",
       "      <td>0.00000</td>\n",
       "      <td>23.0000</td>\n",
       "      <td>32.00000</td>\n",
       "      <td>99.00</td>\n",
       "    </tr>\n",
       "    <tr>\n",
       "      <td>Insulin</td>\n",
       "      <td>768.0</td>\n",
       "      <td>79.799479</td>\n",
       "      <td>115.244002</td>\n",
       "      <td>0.000</td>\n",
       "      <td>0.00000</td>\n",
       "      <td>30.5000</td>\n",
       "      <td>127.25000</td>\n",
       "      <td>846.00</td>\n",
       "    </tr>\n",
       "    <tr>\n",
       "      <td>BMI</td>\n",
       "      <td>768.0</td>\n",
       "      <td>31.992578</td>\n",
       "      <td>7.884160</td>\n",
       "      <td>0.000</td>\n",
       "      <td>27.30000</td>\n",
       "      <td>32.0000</td>\n",
       "      <td>36.60000</td>\n",
       "      <td>67.10</td>\n",
       "    </tr>\n",
       "    <tr>\n",
       "      <td>DiabetesPedigreeFunction</td>\n",
       "      <td>768.0</td>\n",
       "      <td>0.471876</td>\n",
       "      <td>0.331329</td>\n",
       "      <td>0.078</td>\n",
       "      <td>0.24375</td>\n",
       "      <td>0.3725</td>\n",
       "      <td>0.62625</td>\n",
       "      <td>2.42</td>\n",
       "    </tr>\n",
       "    <tr>\n",
       "      <td>Age</td>\n",
       "      <td>768.0</td>\n",
       "      <td>33.240885</td>\n",
       "      <td>11.760232</td>\n",
       "      <td>21.000</td>\n",
       "      <td>24.00000</td>\n",
       "      <td>29.0000</td>\n",
       "      <td>41.00000</td>\n",
       "      <td>81.00</td>\n",
       "    </tr>\n",
       "    <tr>\n",
       "      <td>Outcome</td>\n",
       "      <td>768.0</td>\n",
       "      <td>0.348958</td>\n",
       "      <td>0.476951</td>\n",
       "      <td>0.000</td>\n",
       "      <td>0.00000</td>\n",
       "      <td>0.0000</td>\n",
       "      <td>1.00000</td>\n",
       "      <td>1.00</td>\n",
       "    </tr>\n",
       "  </tbody>\n",
       "</table>\n",
       "</div>"
      ],
      "text/plain": [
       "                          count        mean         std     min       25%  \\\n",
       "Pregnancies               768.0    3.845052    3.369578   0.000   1.00000   \n",
       "Glucose                   768.0  120.894531   31.972618   0.000  99.00000   \n",
       "BloodPressure             768.0   69.105469   19.355807   0.000  62.00000   \n",
       "SkinThickness             768.0   20.536458   15.952218   0.000   0.00000   \n",
       "Insulin                   768.0   79.799479  115.244002   0.000   0.00000   \n",
       "BMI                       768.0   31.992578    7.884160   0.000  27.30000   \n",
       "DiabetesPedigreeFunction  768.0    0.471876    0.331329   0.078   0.24375   \n",
       "Age                       768.0   33.240885   11.760232  21.000  24.00000   \n",
       "Outcome                   768.0    0.348958    0.476951   0.000   0.00000   \n",
       "\n",
       "                               50%        75%     max  \n",
       "Pregnancies                 3.0000    6.00000   17.00  \n",
       "Glucose                   117.0000  140.25000  199.00  \n",
       "BloodPressure              72.0000   80.00000  122.00  \n",
       "SkinThickness              23.0000   32.00000   99.00  \n",
       "Insulin                    30.5000  127.25000  846.00  \n",
       "BMI                        32.0000   36.60000   67.10  \n",
       "DiabetesPedigreeFunction    0.3725    0.62625    2.42  \n",
       "Age                        29.0000   41.00000   81.00  \n",
       "Outcome                     0.0000    1.00000    1.00  "
      ]
     },
     "execution_count": 57,
     "metadata": {},
     "output_type": "execute_result"
    }
   ],
   "source": [
    "df.describe().T"
   ]
  },
  {
   "cell_type": "markdown",
   "metadata": {},
   "source": [
    "#### bağımlı değişkenimize bakalım \n"
   ]
  },
  {
   "cell_type": "code",
   "execution_count": 58,
   "metadata": {},
   "outputs": [
    {
     "data": {
      "text/plain": [
       "0    500\n",
       "1    268\n",
       "Name: Outcome, dtype: int64"
      ]
     },
     "execution_count": 58,
     "metadata": {},
     "output_type": "execute_result"
    }
   ],
   "source": [
    "df.Outcome.value_counts()"
   ]
  },
  {
   "cell_type": "code",
   "execution_count": 59,
   "metadata": {},
   "outputs": [
    {
     "data": {
      "image/png": "[encoded data removed]",
      "text/plain": [
       "<Figure size 432x288 with 1 Axes>"
      ]
     },
     "metadata": {
      "needs_background": "light"
     },
     "output_type": "display_data"
    }
   ],
   "source": [
    "df.Outcome.value_counts().plot.barh();"
   ]
  },
  {
   "cell_type": "markdown",
   "metadata": {},
   "source": [
    " "
   ]
  },
  {
   "cell_type": "markdown",
   "metadata": {},
   "source": [
    "# Bagımlı ve bağımsız değişken seçimleri "
   ]
  },
  {
   "cell_type": "code",
   "execution_count": 60,
   "metadata": {},
   "outputs": [],
   "source": [
    "y = df.Outcome"
   ]
  },
  {
   "cell_type": "code",
   "execution_count": 61,
   "metadata": {},
   "outputs": [],
   "source": [
    "X = df.drop([\"Outcome\"] , axis = 1)"
   ]
  },
  {
   "cell_type": "markdown",
   "metadata": {},
   "source": [
    "# Veri setinin Train - Test Olarak ayrılması "
   ]
  },
  {
   "cell_type": "code",
   "execution_count": 62,
   "metadata": {},
   "outputs": [],
   "source": [
    "from sklearn.model_selection import train_test_split , cross_val_score"
   ]
  },
  {
   "cell_type": "code",
   "execution_count": 63,
   "metadata": {},
   "outputs": [],
   "source": [
    "X_train , X_test ,y_train , y_test = train_test_split(X ,y , test_size = 0.30 ,random_state = 11)"
   ]
  },
  {
   "cell_type": "code",
   "execution_count": 64,
   "metadata": {},
   "outputs": [
    {
     "name": "stdout",
     "output_type": "stream",
     "text": [
      "(537, 8)\n",
      "(537,)\n"
     ]
    }
   ],
   "source": [
    "print(X_train.shape)\n",
    "print(y_train.shape)\n"
   ]
  },
  {
   "cell_type": "markdown",
   "metadata": {},
   "source": [
    " "
   ]
  },
  {
   "cell_type": "markdown",
   "metadata": {},
   "source": [
    "# Model kurma "
   ]
  },
  {
   "cell_type": "code",
   "execution_count": 65,
   "metadata": {},
   "outputs": [],
   "source": [
    "from catboost import CatBoostClassifier\n"
   ]
  },
  {
   "cell_type": "code",
   "execution_count": 66,
   "metadata": {},
   "outputs": [],
   "source": [
    "cat = CatBoostClassifier()"
   ]
  },
  {
   "cell_type": "code",
   "execution_count": 67,
   "metadata": {},
   "outputs": [],
   "source": [
    "cat_model = lgbm.fit(X_train ,y_train)"
   ]
  },
  {
   "cell_type": "markdown",
   "metadata": {},
   "source": [
    "# tahmin"
   ]
  },
  {
   "cell_type": "code",
   "execution_count": 68,
   "metadata": {},
   "outputs": [],
   "source": [
    "from sklearn.metrics import accuracy_score"
   ]
  },
  {
   "cell_type": "code",
   "execution_count": 69,
   "metadata": {},
   "outputs": [],
   "source": [
    "y_pred = cat_model.predict(X_test)"
   ]
  },
  {
   "cell_type": "code",
   "execution_count": 70,
   "metadata": {},
   "outputs": [
    {
     "data": {
      "text/plain": [
       "0.7792207792207793"
      ]
     },
     "execution_count": 70,
     "metadata": {},
     "output_type": "execute_result"
    }
   ],
   "source": [
    "accuracy_score(y_test ,y_pred)"
   ]
  },
  {
   "cell_type": "code",
   "execution_count": null,
   "metadata": {},
   "outputs": [],
   "source": []
  },
  {
   "cell_type": "markdown",
   "metadata": {},
   "source": [
    "# Model Tuning"
   ]
  },
  {
   "cell_type": "code",
   "execution_count": 71,
   "metadata": {},
   "outputs": [],
   "source": [
    "from sklearn.model_selection import GridSearchCV"
   ]
  },
  {
   "cell_type": "code",
   "execution_count": 74,
   "metadata": {},
   "outputs": [],
   "source": [
    "cat_params = {\n",
    "    \"iterations\" : [500 ,200],\n",
    "    \"depth\" : [3 ,5, 8],\n",
    "    \"learning_rate\" : [0.01 ,0.001,0.5]}"
   ]
  },
  {
   "cell_type": "code",
   "execution_count": 75,
   "metadata": {
    "collapsed": true,
    "jupyter": {
     "outputs_hidden": true
    }
   },
   "outputs": [
    {
     "name": "stdout",
     "output_type": "stream",
     "text": [
      "Fitting 5 folds for each of 18 candidates, totalling 90 fits\n"
     ]
    },
    {
     "name": "stderr",
     "output_type": "stream",
     "text": [
      "[Parallel(n_jobs=10)]: Using backend LokyBackend with 10 concurrent workers.\n",
      "[Parallel(n_jobs=10)]: Done  21 tasks      | elapsed:    7.6s\n",
      "[Parallel(n_jobs=10)]: Done  90 out of  90 | elapsed:   31.7s finished\n",
      "C:\\ProgramData\\Anaconda3\\lib\\site-packages\\sklearn\\model_selection\\_search.py:814: DeprecationWarning: The default of the `iid` parameter will change from True to False in version 0.22 and will be removed in 0.24. This will change numeric results when test-set sizes are unequal.\n",
      "  DeprecationWarning)\n"
     ]
    },
    {
     "name": "stdout",
     "output_type": "stream",
     "text": [
      "0:\tlearn: 0.6870316\ttotal: 61ms\tremaining: 12.1s\n",
      "1:\tlearn: 0.6824670\ttotal: 63.9ms\tremaining: 6.33s\n",
      "2:\tlearn: 0.6766020\ttotal: 66.9ms\tremaining: 4.39s\n",
      "3:\tlearn: 0.6715089\ttotal: 69.9ms\tremaining: 3.42s\n",
      "4:\tlearn: 0.6671648\ttotal: 73.2ms\tremaining: 2.85s\n",
      "5:\tlearn: 0.6619181\ttotal: 76.3ms\tremaining: 2.47s\n",
      "6:\tlearn: 0.6575030\ttotal: 79.3ms\tremaining: 2.19s\n",
      "7:\tlearn: 0.6526166\ttotal: 82ms\tremaining: 1.97s\n",
      "8:\tlearn: 0.6475070\ttotal: 85ms\tremaining: 1.8s\n",
      "9:\tlearn: 0.6429792\ttotal: 88ms\tremaining: 1.67s\n",
      "10:\tlearn: 0.6377007\ttotal: 91.2ms\tremaining: 1.57s\n",
      "11:\tlearn: 0.6327077\ttotal: 94.1ms\tremaining: 1.47s\n",
      "12:\tlearn: 0.6286733\ttotal: 97ms\tremaining: 1.39s\n",
      "13:\tlearn: 0.6244818\ttotal: 100ms\tremaining: 1.33s\n",
      "14:\tlearn: 0.6198273\ttotal: 103ms\tremaining: 1.27s\n",
      "15:\tlearn: 0.6158995\ttotal: 106ms\tremaining: 1.22s\n",
      "16:\tlearn: 0.6125868\ttotal: 109ms\tremaining: 1.18s\n",
      "17:\tlearn: 0.6090789\ttotal: 112ms\tremaining: 1.14s\n",
      "18:\tlearn: 0.6050986\ttotal: 115ms\tremaining: 1.1s\n",
      "19:\tlearn: 0.6016690\ttotal: 118ms\tremaining: 1.06s\n",
      "20:\tlearn: 0.5979990\ttotal: 122ms\tremaining: 1.04s\n",
      "21:\tlearn: 0.5937963\ttotal: 125ms\tremaining: 1.01s\n",
      "22:\tlearn: 0.5907777\ttotal: 128ms\tremaining: 982ms\n",
      "23:\tlearn: 0.5877571\ttotal: 131ms\tremaining: 958ms\n",
      "24:\tlearn: 0.5844641\ttotal: 134ms\tremaining: 936ms\n",
      "25:\tlearn: 0.5813338\ttotal: 137ms\tremaining: 914ms\n",
      "26:\tlearn: 0.5775733\ttotal: 140ms\tremaining: 896ms\n",
      "27:\tlearn: 0.5738181\ttotal: 143ms\tremaining: 879ms\n",
      "28:\tlearn: 0.5713514\ttotal: 146ms\tremaining: 862ms\n",
      "29:\tlearn: 0.5683153\ttotal: 150ms\tremaining: 849ms\n",
      "30:\tlearn: 0.5653756\ttotal: 153ms\tremaining: 835ms\n",
      "31:\tlearn: 0.5605001\ttotal: 156ms\tremaining: 820ms\n",
      "32:\tlearn: 0.5573266\ttotal: 159ms\tremaining: 807ms\n",
      "33:\tlearn: 0.5537405\ttotal: 163ms\tremaining: 794ms\n",
      "34:\tlearn: 0.5509363\ttotal: 166ms\tremaining: 784ms\n",
      "35:\tlearn: 0.5476542\ttotal: 169ms\tremaining: 772ms\n",
      "36:\tlearn: 0.5437671\ttotal: 175ms\tremaining: 770ms\n",
      "37:\tlearn: 0.5403033\ttotal: 178ms\tremaining: 760ms\n",
      "38:\tlearn: 0.5371129\ttotal: 183ms\tremaining: 756ms\n",
      "39:\tlearn: 0.5346935\ttotal: 188ms\tremaining: 754ms\n",
      "40:\tlearn: 0.5316147\ttotal: 192ms\tremaining: 746ms\n",
      "41:\tlearn: 0.5285281\ttotal: 195ms\tremaining: 735ms\n",
      "42:\tlearn: 0.5259040\ttotal: 199ms\tremaining: 725ms\n",
      "43:\tlearn: 0.5231351\ttotal: 202ms\tremaining: 716ms\n",
      "44:\tlearn: 0.5207228\ttotal: 207ms\tremaining: 712ms\n",
      "45:\tlearn: 0.5179568\ttotal: 210ms\tremaining: 704ms\n",
      "46:\tlearn: 0.5152587\ttotal: 215ms\tremaining: 700ms\n",
      "47:\tlearn: 0.5129109\ttotal: 218ms\tremaining: 690ms\n",
      "48:\tlearn: 0.5104204\ttotal: 221ms\tremaining: 682ms\n",
      "49:\tlearn: 0.5073821\ttotal: 224ms\tremaining: 673ms\n",
      "50:\tlearn: 0.5056707\ttotal: 228ms\tremaining: 665ms\n",
      "51:\tlearn: 0.5035193\ttotal: 231ms\tremaining: 659ms\n",
      "52:\tlearn: 0.5012429\ttotal: 235ms\tremaining: 651ms\n",
      "53:\tlearn: 0.4993057\ttotal: 238ms\tremaining: 643ms\n",
      "54:\tlearn: 0.4970531\ttotal: 241ms\tremaining: 636ms\n",
      "55:\tlearn: 0.4944226\ttotal: 244ms\tremaining: 629ms\n",
      "56:\tlearn: 0.4923780\ttotal: 248ms\tremaining: 622ms\n",
      "57:\tlearn: 0.4902723\ttotal: 251ms\tremaining: 615ms\n",
      "58:\tlearn: 0.4883473\ttotal: 255ms\tremaining: 608ms\n",
      "59:\tlearn: 0.4864810\ttotal: 258ms\tremaining: 602ms\n",
      "60:\tlearn: 0.4847521\ttotal: 261ms\tremaining: 595ms\n",
      "61:\tlearn: 0.4836401\ttotal: 262ms\tremaining: 583ms\n",
      "62:\tlearn: 0.4819622\ttotal: 265ms\tremaining: 577ms\n",
      "63:\tlearn: 0.4792291\ttotal: 269ms\tremaining: 571ms\n",
      "64:\tlearn: 0.4779484\ttotal: 270ms\tremaining: 560ms\n",
      "65:\tlearn: 0.4760929\ttotal: 273ms\tremaining: 554ms\n",
      "66:\tlearn: 0.4738678\ttotal: 276ms\tremaining: 549ms\n",
      "67:\tlearn: 0.4718685\ttotal: 280ms\tremaining: 544ms\n",
      "68:\tlearn: 0.4693229\ttotal: 284ms\tremaining: 539ms\n",
      "69:\tlearn: 0.4670470\ttotal: 287ms\tremaining: 533ms\n",
      "70:\tlearn: 0.4654433\ttotal: 291ms\tremaining: 528ms\n",
      "71:\tlearn: 0.4631994\ttotal: 294ms\tremaining: 522ms\n",
      "72:\tlearn: 0.4615841\ttotal: 297ms\tremaining: 517ms\n",
      "73:\tlearn: 0.4602717\ttotal: 301ms\tremaining: 512ms\n",
      "74:\tlearn: 0.4580130\ttotal: 305ms\tremaining: 508ms\n",
      "75:\tlearn: 0.4567052\ttotal: 308ms\tremaining: 503ms\n",
      "76:\tlearn: 0.4549066\ttotal: 311ms\tremaining: 497ms\n",
      "77:\tlearn: 0.4533415\ttotal: 315ms\tremaining: 493ms\n",
      "78:\tlearn: 0.4515362\ttotal: 318ms\tremaining: 487ms\n",
      "79:\tlearn: 0.4497451\ttotal: 321ms\tremaining: 482ms\n",
      "80:\tlearn: 0.4476105\ttotal: 324ms\tremaining: 476ms\n",
      "81:\tlearn: 0.4463159\ttotal: 328ms\tremaining: 472ms\n",
      "82:\tlearn: 0.4445363\ttotal: 331ms\tremaining: 467ms\n",
      "83:\tlearn: 0.4426269\ttotal: 334ms\tremaining: 462ms\n",
      "84:\tlearn: 0.4406934\ttotal: 337ms\tremaining: 457ms\n",
      "85:\tlearn: 0.4388530\ttotal: 341ms\tremaining: 452ms\n",
      "86:\tlearn: 0.4368631\ttotal: 344ms\tremaining: 447ms\n",
      "87:\tlearn: 0.4354774\ttotal: 347ms\tremaining: 442ms\n",
      "88:\tlearn: 0.4335041\ttotal: 350ms\tremaining: 437ms\n",
      "89:\tlearn: 0.4320083\ttotal: 354ms\tremaining: 432ms\n",
      "90:\tlearn: 0.4301961\ttotal: 357ms\tremaining: 428ms\n",
      "91:\tlearn: 0.4289356\ttotal: 360ms\tremaining: 423ms\n",
      "92:\tlearn: 0.4278208\ttotal: 364ms\tremaining: 419ms\n",
      "93:\tlearn: 0.4264226\ttotal: 368ms\tremaining: 415ms\n",
      "94:\tlearn: 0.4254804\ttotal: 369ms\tremaining: 408ms\n",
      "95:\tlearn: 0.4238234\ttotal: 372ms\tremaining: 403ms\n",
      "96:\tlearn: 0.4221520\ttotal: 376ms\tremaining: 399ms\n",
      "97:\tlearn: 0.4209832\ttotal: 380ms\tremaining: 395ms\n",
      "98:\tlearn: 0.4193689\ttotal: 383ms\tremaining: 391ms\n",
      "99:\tlearn: 0.4182820\ttotal: 386ms\tremaining: 386ms\n",
      "100:\tlearn: 0.4168517\ttotal: 389ms\tremaining: 382ms\n",
      "101:\tlearn: 0.4154024\ttotal: 393ms\tremaining: 377ms\n",
      "102:\tlearn: 0.4142453\ttotal: 396ms\tremaining: 373ms\n",
      "103:\tlearn: 0.4129705\ttotal: 399ms\tremaining: 368ms\n",
      "104:\tlearn: 0.4118439\ttotal: 403ms\tremaining: 365ms\n",
      "105:\tlearn: 0.4103354\ttotal: 406ms\tremaining: 360ms\n",
      "106:\tlearn: 0.4089983\ttotal: 410ms\tremaining: 356ms\n",
      "107:\tlearn: 0.4073682\ttotal: 413ms\tremaining: 352ms\n",
      "108:\tlearn: 0.4056137\ttotal: 417ms\tremaining: 348ms\n",
      "109:\tlearn: 0.4042763\ttotal: 420ms\tremaining: 344ms\n",
      "110:\tlearn: 0.4029652\ttotal: 423ms\tremaining: 339ms\n",
      "111:\tlearn: 0.4019011\ttotal: 426ms\tremaining: 335ms\n",
      "112:\tlearn: 0.4004017\ttotal: 430ms\tremaining: 331ms\n",
      "113:\tlearn: 0.3986138\ttotal: 433ms\tremaining: 327ms\n",
      "114:\tlearn: 0.3972071\ttotal: 437ms\tremaining: 323ms\n",
      "115:\tlearn: 0.3956228\ttotal: 440ms\tremaining: 319ms\n",
      "116:\tlearn: 0.3942285\ttotal: 444ms\tremaining: 315ms\n",
      "117:\tlearn: 0.3926196\ttotal: 448ms\tremaining: 311ms\n",
      "118:\tlearn: 0.3917010\ttotal: 452ms\tremaining: 308ms\n",
      "119:\tlearn: 0.3906957\ttotal: 456ms\tremaining: 304ms\n",
      "120:\tlearn: 0.3898755\ttotal: 459ms\tremaining: 300ms\n",
      "121:\tlearn: 0.3889363\ttotal: 463ms\tremaining: 296ms\n",
      "122:\tlearn: 0.3882175\ttotal: 466ms\tremaining: 292ms\n",
      "123:\tlearn: 0.3873233\ttotal: 469ms\tremaining: 288ms\n",
      "124:\tlearn: 0.3860272\ttotal: 473ms\tremaining: 284ms\n",
      "125:\tlearn: 0.3849370\ttotal: 476ms\tremaining: 280ms\n",
      "126:\tlearn: 0.3838132\ttotal: 479ms\tremaining: 276ms\n",
      "127:\tlearn: 0.3825931\ttotal: 483ms\tremaining: 272ms\n",
      "128:\tlearn: 0.3814237\ttotal: 486ms\tremaining: 268ms\n",
      "129:\tlearn: 0.3802101\ttotal: 490ms\tremaining: 264ms\n",
      "130:\tlearn: 0.3793230\ttotal: 493ms\tremaining: 260ms\n",
      "131:\tlearn: 0.3784107\ttotal: 496ms\tremaining: 256ms\n",
      "132:\tlearn: 0.3772963\ttotal: 500ms\tremaining: 252ms\n",
      "133:\tlearn: 0.3763984\ttotal: 503ms\tremaining: 248ms\n",
      "134:\tlearn: 0.3755804\ttotal: 506ms\tremaining: 244ms\n",
      "135:\tlearn: 0.3743334\ttotal: 509ms\tremaining: 240ms\n",
      "136:\tlearn: 0.3737308\ttotal: 512ms\tremaining: 235ms\n",
      "137:\tlearn: 0.3724618\ttotal: 515ms\tremaining: 231ms\n",
      "138:\tlearn: 0.3713289\ttotal: 518ms\tremaining: 228ms\n",
      "139:\tlearn: 0.3701115\ttotal: 522ms\tremaining: 224ms\n",
      "140:\tlearn: 0.3689130\ttotal: 525ms\tremaining: 220ms\n",
      "141:\tlearn: 0.3679854\ttotal: 528ms\tremaining: 216ms\n",
      "142:\tlearn: 0.3669818\ttotal: 532ms\tremaining: 212ms\n",
      "143:\tlearn: 0.3657442\ttotal: 535ms\tremaining: 208ms\n",
      "144:\tlearn: 0.3650324\ttotal: 539ms\tremaining: 204ms\n",
      "145:\tlearn: 0.3640130\ttotal: 542ms\tremaining: 200ms\n",
      "146:\tlearn: 0.3630895\ttotal: 545ms\tremaining: 196ms\n",
      "147:\tlearn: 0.3622984\ttotal: 549ms\tremaining: 193ms\n",
      "148:\tlearn: 0.3613229\ttotal: 552ms\tremaining: 189ms\n",
      "149:\tlearn: 0.3602137\ttotal: 555ms\tremaining: 185ms\n",
      "150:\tlearn: 0.3591255\ttotal: 559ms\tremaining: 181ms\n",
      "151:\tlearn: 0.3586245\ttotal: 562ms\tremaining: 177ms\n",
      "152:\tlearn: 0.3577874\ttotal: 565ms\tremaining: 174ms\n",
      "153:\tlearn: 0.3569054\ttotal: 569ms\tremaining: 170ms\n",
      "154:\tlearn: 0.3559010\ttotal: 572ms\tremaining: 166ms\n",
      "155:\tlearn: 0.3551043\ttotal: 575ms\tremaining: 162ms\n",
      "156:\tlearn: 0.3540137\ttotal: 579ms\tremaining: 158ms\n",
      "157:\tlearn: 0.3531528\ttotal: 582ms\tremaining: 155ms\n",
      "158:\tlearn: 0.3518792\ttotal: 586ms\tremaining: 151ms\n",
      "159:\tlearn: 0.3508023\ttotal: 589ms\tremaining: 147ms\n",
      "160:\tlearn: 0.3497964\ttotal: 592ms\tremaining: 144ms\n",
      "161:\tlearn: 0.3485866\ttotal: 596ms\tremaining: 140ms\n",
      "162:\tlearn: 0.3478483\ttotal: 599ms\tremaining: 136ms\n",
      "163:\tlearn: 0.3470656\ttotal: 602ms\tremaining: 132ms\n",
      "164:\tlearn: 0.3464721\ttotal: 605ms\tremaining: 128ms\n",
      "165:\tlearn: 0.3457632\ttotal: 610ms\tremaining: 125ms\n",
      "166:\tlearn: 0.3453118\ttotal: 613ms\tremaining: 121ms\n",
      "167:\tlearn: 0.3446612\ttotal: 617ms\tremaining: 118ms\n",
      "168:\tlearn: 0.3440866\ttotal: 620ms\tremaining: 114ms\n",
      "169:\tlearn: 0.3431489\ttotal: 624ms\tremaining: 110ms\n",
      "170:\tlearn: 0.3425348\ttotal: 627ms\tremaining: 106ms\n",
      "171:\tlearn: 0.3419038\ttotal: 631ms\tremaining: 103ms\n",
      "172:\tlearn: 0.3410936\ttotal: 635ms\tremaining: 99ms\n",
      "173:\tlearn: 0.3404156\ttotal: 638ms\tremaining: 95.3ms\n",
      "174:\tlearn: 0.3394862\ttotal: 641ms\tremaining: 91.5ms\n",
      "175:\tlearn: 0.3388731\ttotal: 644ms\tremaining: 87.8ms\n",
      "176:\tlearn: 0.3384176\ttotal: 647ms\tremaining: 84.1ms\n",
      "177:\tlearn: 0.3372176\ttotal: 650ms\tremaining: 80.3ms\n",
      "178:\tlearn: 0.3359926\ttotal: 654ms\tremaining: 76.7ms\n",
      "179:\tlearn: 0.3351984\ttotal: 657ms\tremaining: 73ms\n",
      "180:\tlearn: 0.3343841\ttotal: 660ms\tremaining: 69.3ms\n",
      "181:\tlearn: 0.3334252\ttotal: 663ms\tremaining: 65.6ms\n",
      "182:\tlearn: 0.3327601\ttotal: 667ms\tremaining: 62ms\n",
      "183:\tlearn: 0.3321558\ttotal: 670ms\tremaining: 58.3ms\n",
      "184:\tlearn: 0.3312548\ttotal: 674ms\tremaining: 54.7ms\n",
      "185:\tlearn: 0.3300846\ttotal: 677ms\tremaining: 51ms\n",
      "186:\tlearn: 0.3294681\ttotal: 680ms\tremaining: 47.3ms\n",
      "187:\tlearn: 0.3288259\ttotal: 684ms\tremaining: 43.7ms\n",
      "188:\tlearn: 0.3282131\ttotal: 688ms\tremaining: 40ms\n",
      "189:\tlearn: 0.3273987\ttotal: 691ms\tremaining: 36.4ms\n",
      "190:\tlearn: 0.3265636\ttotal: 695ms\tremaining: 32.8ms\n",
      "191:\tlearn: 0.3256622\ttotal: 699ms\tremaining: 29.1ms\n",
      "192:\tlearn: 0.3251320\ttotal: 702ms\tremaining: 25.4ms\n",
      "193:\tlearn: 0.3241488\ttotal: 705ms\tremaining: 21.8ms\n",
      "194:\tlearn: 0.3233649\ttotal: 708ms\tremaining: 18.2ms\n",
      "195:\tlearn: 0.3225690\ttotal: 712ms\tremaining: 14.5ms\n",
      "196:\tlearn: 0.3220525\ttotal: 715ms\tremaining: 10.9ms\n",
      "197:\tlearn: 0.3215772\ttotal: 718ms\tremaining: 7.25ms\n",
      "198:\tlearn: 0.3207584\ttotal: 722ms\tremaining: 3.63ms\n",
      "199:\tlearn: 0.3200684\ttotal: 725ms\tremaining: 0us\n"
     ]
    }
   ],
   "source": [
    "cat_cv = GridSearchCV(cat,\n",
    "                     cat_params,\n",
    "                     cv = 5,\n",
    "                     n_jobs = 10,\n",
    "                     verbose = 2).fit(X_train ,y_train)"
   ]
  },
  {
   "cell_type": "code",
   "execution_count": 77,
   "metadata": {},
   "outputs": [
    {
     "data": {
      "text/plain": [
       "{'learning_rate': 0.01,\n",
       " 'max_depth': 3,\n",
       " 'min_child_samples': 10,\n",
       " 'n_estimators': 1000,\n",
       " 'subsample': 0.6}"
      ]
     },
     "execution_count": 77,
     "metadata": {},
     "output_type": "execute_result"
    }
   ],
   "source": [
    "lgbm_cv.best_params_"
   ]
  },
  {
   "cell_type": "code",
   "execution_count": 78,
   "metadata": {},
   "outputs": [],
   "source": [
    "y_pred = lgbm_cv.predict(X_test)"
   ]
  },
  {
   "cell_type": "code",
   "execution_count": 79,
   "metadata": {},
   "outputs": [
    {
     "data": {
      "text/plain": [
       "0.7878787878787878"
      ]
     },
     "execution_count": 79,
     "metadata": {},
     "output_type": "execute_result"
    }
   ],
   "source": [
    "accuracy_score(y_test ,y_pred)"
   ]
  },
  {
   "cell_type": "code",
   "execution_count": null,
   "metadata": {},
   "outputs": [],
   "source": []
  }
 ],
 "metadata": {
  "kernelspec": {
   "display_name": "Python 3",
   "language": "python",
   "name": "python3"
  },
  "language_info": {
   "codemirror_mode": {
    "name": "ipython",
    "version": 3
   },
   "file_extension": ".py",
   "mimetype": "text/x-python",
   "name": "python",
   "nbconvert_exporter": "python",
   "pygments_lexer": "ipython3",
   "version": "3.7.4"
  }
 },
 "nbformat": 4,
 "nbformat_minor": 4
}
