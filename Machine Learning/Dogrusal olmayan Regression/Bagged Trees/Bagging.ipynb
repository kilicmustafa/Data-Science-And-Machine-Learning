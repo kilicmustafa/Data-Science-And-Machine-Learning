{
 "cells": [
  {
   "cell_type": "code",
   "execution_count": 1,
   "metadata": {},
   "outputs": [
    {
     "data": {
      "text/html": [
       "<div>\n",
       "<style scoped>\n",
       "    .dataframe tbody tr th:only-of-type {\n",
       "        vertical-align: middle;\n",
       "    }\n",
       "\n",
       "    .dataframe tbody tr th {\n",
       "        vertical-align: top;\n",
       "    }\n",
       "\n",
       "    .dataframe thead th {\n",
       "        text-align: right;\n",
       "    }\n",
       "</style>\n",
       "<table border=\"1\" class=\"dataframe\">\n",
       "  <thead>\n",
       "    <tr style=\"text-align: right;\">\n",
       "      <th></th>\n",
       "      <th>AtBat</th>\n",
       "      <th>Hits</th>\n",
       "      <th>HmRun</th>\n",
       "      <th>Runs</th>\n",
       "      <th>RBI</th>\n",
       "      <th>Walks</th>\n",
       "      <th>Years</th>\n",
       "      <th>CAtBat</th>\n",
       "      <th>CHits</th>\n",
       "      <th>CHmRun</th>\n",
       "      <th>CRuns</th>\n",
       "      <th>CRBI</th>\n",
       "      <th>CWalks</th>\n",
       "      <th>League</th>\n",
       "      <th>Division</th>\n",
       "      <th>PutOuts</th>\n",
       "      <th>Assists</th>\n",
       "      <th>Errors</th>\n",
       "      <th>Salary</th>\n",
       "      <th>NewLeague</th>\n",
       "    </tr>\n",
       "  </thead>\n",
       "  <tbody>\n",
       "    <tr>\n",
       "      <td>0</td>\n",
       "      <td>293</td>\n",
       "      <td>66</td>\n",
       "      <td>1</td>\n",
       "      <td>30</td>\n",
       "      <td>29</td>\n",
       "      <td>14</td>\n",
       "      <td>1</td>\n",
       "      <td>293</td>\n",
       "      <td>66</td>\n",
       "      <td>1</td>\n",
       "      <td>30</td>\n",
       "      <td>29</td>\n",
       "      <td>14</td>\n",
       "      <td>A</td>\n",
       "      <td>E</td>\n",
       "      <td>446</td>\n",
       "      <td>33</td>\n",
       "      <td>20</td>\n",
       "      <td>NaN</td>\n",
       "      <td>A</td>\n",
       "    </tr>\n",
       "    <tr>\n",
       "      <td>1</td>\n",
       "      <td>315</td>\n",
       "      <td>81</td>\n",
       "      <td>7</td>\n",
       "      <td>24</td>\n",
       "      <td>38</td>\n",
       "      <td>39</td>\n",
       "      <td>14</td>\n",
       "      <td>3449</td>\n",
       "      <td>835</td>\n",
       "      <td>69</td>\n",
       "      <td>321</td>\n",
       "      <td>414</td>\n",
       "      <td>375</td>\n",
       "      <td>N</td>\n",
       "      <td>W</td>\n",
       "      <td>632</td>\n",
       "      <td>43</td>\n",
       "      <td>10</td>\n",
       "      <td>475.0</td>\n",
       "      <td>N</td>\n",
       "    </tr>\n",
       "    <tr>\n",
       "      <td>2</td>\n",
       "      <td>479</td>\n",
       "      <td>130</td>\n",
       "      <td>18</td>\n",
       "      <td>66</td>\n",
       "      <td>72</td>\n",
       "      <td>76</td>\n",
       "      <td>3</td>\n",
       "      <td>1624</td>\n",
       "      <td>457</td>\n",
       "      <td>63</td>\n",
       "      <td>224</td>\n",
       "      <td>266</td>\n",
       "      <td>263</td>\n",
       "      <td>A</td>\n",
       "      <td>W</td>\n",
       "      <td>880</td>\n",
       "      <td>82</td>\n",
       "      <td>14</td>\n",
       "      <td>480.0</td>\n",
       "      <td>A</td>\n",
       "    </tr>\n",
       "    <tr>\n",
       "      <td>3</td>\n",
       "      <td>496</td>\n",
       "      <td>141</td>\n",
       "      <td>20</td>\n",
       "      <td>65</td>\n",
       "      <td>78</td>\n",
       "      <td>37</td>\n",
       "      <td>11</td>\n",
       "      <td>5628</td>\n",
       "      <td>1575</td>\n",
       "      <td>225</td>\n",
       "      <td>828</td>\n",
       "      <td>838</td>\n",
       "      <td>354</td>\n",
       "      <td>N</td>\n",
       "      <td>E</td>\n",
       "      <td>200</td>\n",
       "      <td>11</td>\n",
       "      <td>3</td>\n",
       "      <td>500.0</td>\n",
       "      <td>N</td>\n",
       "    </tr>\n",
       "    <tr>\n",
       "      <td>4</td>\n",
       "      <td>321</td>\n",
       "      <td>87</td>\n",
       "      <td>10</td>\n",
       "      <td>39</td>\n",
       "      <td>42</td>\n",
       "      <td>30</td>\n",
       "      <td>2</td>\n",
       "      <td>396</td>\n",
       "      <td>101</td>\n",
       "      <td>12</td>\n",
       "      <td>48</td>\n",
       "      <td>46</td>\n",
       "      <td>33</td>\n",
       "      <td>N</td>\n",
       "      <td>E</td>\n",
       "      <td>805</td>\n",
       "      <td>40</td>\n",
       "      <td>4</td>\n",
       "      <td>91.5</td>\n",
       "      <td>N</td>\n",
       "    </tr>\n",
       "  </tbody>\n",
       "</table>\n",
       "</div>"
      ],
      "text/plain": [
       "   AtBat  Hits  HmRun  Runs  RBI  Walks  Years  CAtBat  CHits  CHmRun  CRuns  \\\n",
       "0    293    66      1    30   29     14      1     293     66       1     30   \n",
       "1    315    81      7    24   38     39     14    3449    835      69    321   \n",
       "2    479   130     18    66   72     76      3    1624    457      63    224   \n",
       "3    496   141     20    65   78     37     11    5628   1575     225    828   \n",
       "4    321    87     10    39   42     30      2     396    101      12     48   \n",
       "\n",
       "   CRBI  CWalks League Division  PutOuts  Assists  Errors  Salary NewLeague  \n",
       "0    29      14      A        E      446       33      20     NaN         A  \n",
       "1   414     375      N        W      632       43      10   475.0         N  \n",
       "2   266     263      A        W      880       82      14   480.0         A  \n",
       "3   838     354      N        E      200       11       3   500.0         N  \n",
       "4    46      33      N        E      805       40       4    91.5         N  "
      ]
     },
     "execution_count": 1,
     "metadata": {},
     "output_type": "execute_result"
    }
   ],
   "source": [
    "import pandas as pd\n",
    "import numpy as np\n",
    "\n",
    "df = pd.read_csv(\"Hitters.csv\")\n",
    "df = df.copy()\n",
    "df.head()\n",
    "#veri setimizde index problemi yok \n"
   ]
  },
  {
   "cell_type": "code",
   "execution_count": 2,
   "metadata": {},
   "outputs": [
    {
     "data": {
      "text/plain": [
       "(322, 20)"
      ]
     },
     "execution_count": 2,
     "metadata": {},
     "output_type": "execute_result"
    }
   ],
   "source": [
    "df.shape\n"
   ]
  },
  {
   "cell_type": "code",
   "execution_count": 3,
   "metadata": {},
   "outputs": [
    {
     "data": {
      "text/plain": [
       "AtBat         0\n",
       "Hits          0\n",
       "HmRun         0\n",
       "Runs          0\n",
       "RBI           0\n",
       "Walks         0\n",
       "Years         0\n",
       "CAtBat        0\n",
       "CHits         0\n",
       "CHmRun        0\n",
       "CRuns         0\n",
       "CRBI          0\n",
       "CWalks        0\n",
       "League        0\n",
       "Division      0\n",
       "PutOuts       0\n",
       "Assists       0\n",
       "Errors        0\n",
       "Salary       59\n",
       "NewLeague     0\n",
       "dtype: int64"
      ]
     },
     "execution_count": 3,
     "metadata": {},
     "output_type": "execute_result"
    }
   ],
   "source": [
    "df.isnull().sum()\n",
    "# salary değişkenlerimizde boş gözlemler bulunmaktadır \n",
    "# bunları ortalama ile dolduralım \n"
   ]
  },
  {
   "cell_type": "code",
   "execution_count": 4,
   "metadata": {},
   "outputs": [],
   "source": [
    "df[\"Salary\"].fillna(df.Salary.mean() , inplace = True)\n",
    "# boş maaş değerlerini ortalama ile doldurduk aslında bunları ilerde tahmin ile dolduracağız"
   ]
  },
  {
   "cell_type": "code",
   "execution_count": 5,
   "metadata": {},
   "outputs": [
    {
     "data": {
      "text/plain": [
       "False"
      ]
     },
     "execution_count": 5,
     "metadata": {},
     "output_type": "execute_result"
    }
   ],
   "source": [
    "df.isnull().sum().any()\n",
    "# datamızda boş değer var mı ? \n"
   ]
  },
  {
   "cell_type": "code",
   "execution_count": 6,
   "metadata": {},
   "outputs": [
    {
     "name": "stdout",
     "output_type": "stream",
     "text": [
      "<class 'pandas.core.frame.DataFrame'>\n",
      "RangeIndex: 322 entries, 0 to 321\n",
      "Data columns (total 20 columns):\n",
      "AtBat        322 non-null int64\n",
      "Hits         322 non-null int64\n",
      "HmRun        322 non-null int64\n",
      "Runs         322 non-null int64\n",
      "RBI          322 non-null int64\n",
      "Walks        322 non-null int64\n",
      "Years        322 non-null int64\n",
      "CAtBat       322 non-null int64\n",
      "CHits        322 non-null int64\n",
      "CHmRun       322 non-null int64\n",
      "CRuns        322 non-null int64\n",
      "CRBI         322 non-null int64\n",
      "CWalks       322 non-null int64\n",
      "League       322 non-null object\n",
      "Division     322 non-null object\n",
      "PutOuts      322 non-null int64\n",
      "Assists      322 non-null int64\n",
      "Errors       322 non-null int64\n",
      "Salary       322 non-null float64\n",
      "NewLeague    322 non-null object\n",
      "dtypes: float64(1), int64(16), object(3)\n",
      "memory usage: 50.4+ KB\n"
     ]
    }
   ],
   "source": [
    "df.info()\n",
    "# veri setimizdeki kategorik değişkenleri düzenliyelim \n"
   ]
  },
  {
   "cell_type": "markdown",
   "metadata": {},
   "source": [
    " "
   ]
  },
  {
   "cell_type": "markdown",
   "metadata": {},
   "source": [
    " "
   ]
  },
  {
   "cell_type": "markdown",
   "metadata": {},
   "source": [
    "# Kategorik değişkenleri modellemeye hazır hale getirme "
   ]
  },
  {
   "cell_type": "code",
   "execution_count": 7,
   "metadata": {},
   "outputs": [],
   "source": [
    "from sklearn.preprocessing import LabelEncoder \n",
    "cat_list = [\"NewLeague\" , \"Division\" , \"League\"] \n",
    "\n",
    "lbe = LabelEncoder()\n",
    "for i in cat_list:\n",
    "    df[i] = lbe.fit_transform(df[i])"
   ]
  },
  {
   "cell_type": "code",
   "execution_count": 8,
   "metadata": {},
   "outputs": [
    {
     "data": {
      "text/html": [
       "<div>\n",
       "<style scoped>\n",
       "    .dataframe tbody tr th:only-of-type {\n",
       "        vertical-align: middle;\n",
       "    }\n",
       "\n",
       "    .dataframe tbody tr th {\n",
       "        vertical-align: top;\n",
       "    }\n",
       "\n",
       "    .dataframe thead th {\n",
       "        text-align: right;\n",
       "    }\n",
       "</style>\n",
       "<table border=\"1\" class=\"dataframe\">\n",
       "  <thead>\n",
       "    <tr style=\"text-align: right;\">\n",
       "      <th></th>\n",
       "      <th>AtBat</th>\n",
       "      <th>Hits</th>\n",
       "      <th>HmRun</th>\n",
       "      <th>Runs</th>\n",
       "      <th>RBI</th>\n",
       "      <th>Walks</th>\n",
       "      <th>Years</th>\n",
       "      <th>CAtBat</th>\n",
       "      <th>CHits</th>\n",
       "      <th>CHmRun</th>\n",
       "      <th>CRuns</th>\n",
       "      <th>CRBI</th>\n",
       "      <th>CWalks</th>\n",
       "      <th>League</th>\n",
       "      <th>Division</th>\n",
       "      <th>PutOuts</th>\n",
       "      <th>Assists</th>\n",
       "      <th>Errors</th>\n",
       "      <th>Salary</th>\n",
       "      <th>NewLeague</th>\n",
       "    </tr>\n",
       "  </thead>\n",
       "  <tbody>\n",
       "    <tr>\n",
       "      <td>0</td>\n",
       "      <td>293</td>\n",
       "      <td>66</td>\n",
       "      <td>1</td>\n",
       "      <td>30</td>\n",
       "      <td>29</td>\n",
       "      <td>14</td>\n",
       "      <td>1</td>\n",
       "      <td>293</td>\n",
       "      <td>66</td>\n",
       "      <td>1</td>\n",
       "      <td>30</td>\n",
       "      <td>29</td>\n",
       "      <td>14</td>\n",
       "      <td>0</td>\n",
       "      <td>0</td>\n",
       "      <td>446</td>\n",
       "      <td>33</td>\n",
       "      <td>20</td>\n",
       "      <td>535.925882</td>\n",
       "      <td>0</td>\n",
       "    </tr>\n",
       "    <tr>\n",
       "      <td>1</td>\n",
       "      <td>315</td>\n",
       "      <td>81</td>\n",
       "      <td>7</td>\n",
       "      <td>24</td>\n",
       "      <td>38</td>\n",
       "      <td>39</td>\n",
       "      <td>14</td>\n",
       "      <td>3449</td>\n",
       "      <td>835</td>\n",
       "      <td>69</td>\n",
       "      <td>321</td>\n",
       "      <td>414</td>\n",
       "      <td>375</td>\n",
       "      <td>1</td>\n",
       "      <td>1</td>\n",
       "      <td>632</td>\n",
       "      <td>43</td>\n",
       "      <td>10</td>\n",
       "      <td>475.000000</td>\n",
       "      <td>1</td>\n",
       "    </tr>\n",
       "    <tr>\n",
       "      <td>2</td>\n",
       "      <td>479</td>\n",
       "      <td>130</td>\n",
       "      <td>18</td>\n",
       "      <td>66</td>\n",
       "      <td>72</td>\n",
       "      <td>76</td>\n",
       "      <td>3</td>\n",
       "      <td>1624</td>\n",
       "      <td>457</td>\n",
       "      <td>63</td>\n",
       "      <td>224</td>\n",
       "      <td>266</td>\n",
       "      <td>263</td>\n",
       "      <td>0</td>\n",
       "      <td>1</td>\n",
       "      <td>880</td>\n",
       "      <td>82</td>\n",
       "      <td>14</td>\n",
       "      <td>480.000000</td>\n",
       "      <td>0</td>\n",
       "    </tr>\n",
       "  </tbody>\n",
       "</table>\n",
       "</div>"
      ],
      "text/plain": [
       "   AtBat  Hits  HmRun  Runs  RBI  Walks  Years  CAtBat  CHits  CHmRun  CRuns  \\\n",
       "0    293    66      1    30   29     14      1     293     66       1     30   \n",
       "1    315    81      7    24   38     39     14    3449    835      69    321   \n",
       "2    479   130     18    66   72     76      3    1624    457      63    224   \n",
       "\n",
       "   CRBI  CWalks  League  Division  PutOuts  Assists  Errors      Salary  \\\n",
       "0    29      14       0         0      446       33      20  535.925882   \n",
       "1   414     375       1         1      632       43      10  475.000000   \n",
       "2   266     263       0         1      880       82      14  480.000000   \n",
       "\n",
       "   NewLeague  \n",
       "0          0  \n",
       "1          1  \n",
       "2          0  "
      ]
     },
     "execution_count": 8,
     "metadata": {},
     "output_type": "execute_result"
    }
   ],
   "source": [
    "df.head(3)\n",
    "# tip dönüşümlerini başarılı bir şekilde uyguladık "
   ]
  },
  {
   "cell_type": "markdown",
   "metadata": {},
   "source": [
    " "
   ]
  },
  {
   "cell_type": "markdown",
   "metadata": {},
   "source": [
    "# Bagimli ve bağımsız değişken ayrışımı "
   ]
  },
  {
   "cell_type": "code",
   "execution_count": 9,
   "metadata": {},
   "outputs": [],
   "source": [
    "X = df.drop(\"Salary\"  , axis = 1) # bagımsız degisken "
   ]
  },
  {
   "cell_type": "code",
   "execution_count": 10,
   "metadata": {},
   "outputs": [],
   "source": [
    "y = df[\"Salary\"] #bagimli değisken "
   ]
  },
  {
   "cell_type": "markdown",
   "metadata": {},
   "source": [
    " "
   ]
  },
  {
   "cell_type": "markdown",
   "metadata": {},
   "source": [
    " "
   ]
  },
  {
   "cell_type": "markdown",
   "metadata": {},
   "source": [
    "# Veri setini Train_Test olarak ayırma"
   ]
  },
  {
   "cell_type": "code",
   "execution_count": 11,
   "metadata": {},
   "outputs": [],
   "source": [
    "from sklearn.model_selection import train_test_split\n",
    "\n",
    "X_train , X_test , y_train , y_test = train_test_split(X , y , test_size = 0.20)"
   ]
  },
  {
   "cell_type": "code",
   "execution_count": 12,
   "metadata": {},
   "outputs": [
    {
     "name": "stdout",
     "output_type": "stream",
     "text": [
      "(257, 19)\n",
      "(257,)\n",
      "(65, 19)\n",
      "(65,)\n"
     ]
    }
   ],
   "source": [
    "print(X_train.shape)\n",
    "print(y_train.shape)\n",
    "print(X_test.shape)\n",
    "print(y_test.shape)\n",
    "# doğru parcalamışız"
   ]
  },
  {
   "cell_type": "markdown",
   "metadata": {},
   "source": [
    " "
   ]
  },
  {
   "cell_type": "markdown",
   "metadata": {},
   "source": [
    "# Model Kurma\n"
   ]
  },
  {
   "cell_type": "code",
   "execution_count": 17,
   "metadata": {},
   "outputs": [],
   "source": [
    "from sklearn.ensemble import BaggingRegressor"
   ]
  },
  {
   "cell_type": "code",
   "execution_count": 33,
   "metadata": {},
   "outputs": [],
   "source": [
    "bag_model = BaggingRegressor(bootstrap_features = True)"
   ]
  },
  {
   "cell_type": "code",
   "execution_count": 34,
   "metadata": {},
   "outputs": [
    {
     "data": {
      "text/plain": [
       "BaggingRegressor(base_estimator=None, bootstrap=True, bootstrap_features=True,\n",
       "                 max_features=1.0, max_samples=1.0, n_estimators=10,\n",
       "                 n_jobs=None, oob_score=False, random_state=None, verbose=0,\n",
       "                 warm_start=False)"
      ]
     },
     "execution_count": 34,
     "metadata": {},
     "output_type": "execute_result"
    }
   ],
   "source": [
    "bag_model.fit(X_train , y_train)"
   ]
  },
  {
   "cell_type": "markdown",
   "metadata": {},
   "source": [
    "- Bootstrap_features = Ağaçların özelliklerini görmek için açacağız\n",
    "- n_estimators = Ağaç sayısı"
   ]
  },
  {
   "cell_type": "code",
   "execution_count": 35,
   "metadata": {},
   "outputs": [
    {
     "data": {
      "text/plain": [
       "10"
      ]
     },
     "execution_count": 35,
     "metadata": {},
     "output_type": "execute_result"
    }
   ],
   "source": [
    "bag_model.n_estimators\n",
    "# ağaç sayısı"
   ]
  },
  {
   "cell_type": "code",
   "execution_count": 36,
   "metadata": {
    "collapsed": true,
    "jupyter": {
     "outputs_hidden": true
    }
   },
   "outputs": [
    {
     "data": {
      "text/plain": [
       "[DecisionTreeRegressor(criterion='mse', max_depth=None, max_features=None,\n",
       "                       max_leaf_nodes=None, min_impurity_decrease=0.0,\n",
       "                       min_impurity_split=None, min_samples_leaf=1,\n",
       "                       min_samples_split=2, min_weight_fraction_leaf=0.0,\n",
       "                       presort=False, random_state=493344337, splitter='best'),\n",
       " DecisionTreeRegressor(criterion='mse', max_depth=None, max_features=None,\n",
       "                       max_leaf_nodes=None, min_impurity_decrease=0.0,\n",
       "                       min_impurity_split=None, min_samples_leaf=1,\n",
       "                       min_samples_split=2, min_weight_fraction_leaf=0.0,\n",
       "                       presort=False, random_state=1310450778, splitter='best'),\n",
       " DecisionTreeRegressor(criterion='mse', max_depth=None, max_features=None,\n",
       "                       max_leaf_nodes=None, min_impurity_decrease=0.0,\n",
       "                       min_impurity_split=None, min_samples_leaf=1,\n",
       "                       min_samples_split=2, min_weight_fraction_leaf=0.0,\n",
       "                       presort=False, random_state=1110496890, splitter='best'),\n",
       " DecisionTreeRegressor(criterion='mse', max_depth=None, max_features=None,\n",
       "                       max_leaf_nodes=None, min_impurity_decrease=0.0,\n",
       "                       min_impurity_split=None, min_samples_leaf=1,\n",
       "                       min_samples_split=2, min_weight_fraction_leaf=0.0,\n",
       "                       presort=False, random_state=721221110, splitter='best'),\n",
       " DecisionTreeRegressor(criterion='mse', max_depth=None, max_features=None,\n",
       "                       max_leaf_nodes=None, min_impurity_decrease=0.0,\n",
       "                       min_impurity_split=None, min_samples_leaf=1,\n",
       "                       min_samples_split=2, min_weight_fraction_leaf=0.0,\n",
       "                       presort=False, random_state=1570014520, splitter='best'),\n",
       " DecisionTreeRegressor(criterion='mse', max_depth=None, max_features=None,\n",
       "                       max_leaf_nodes=None, min_impurity_decrease=0.0,\n",
       "                       min_impurity_split=None, min_samples_leaf=1,\n",
       "                       min_samples_split=2, min_weight_fraction_leaf=0.0,\n",
       "                       presort=False, random_state=773112814, splitter='best'),\n",
       " DecisionTreeRegressor(criterion='mse', max_depth=None, max_features=None,\n",
       "                       max_leaf_nodes=None, min_impurity_decrease=0.0,\n",
       "                       min_impurity_split=None, min_samples_leaf=1,\n",
       "                       min_samples_split=2, min_weight_fraction_leaf=0.0,\n",
       "                       presort=False, random_state=189429280, splitter='best'),\n",
       " DecisionTreeRegressor(criterion='mse', max_depth=None, max_features=None,\n",
       "                       max_leaf_nodes=None, min_impurity_decrease=0.0,\n",
       "                       min_impurity_split=None, min_samples_leaf=1,\n",
       "                       min_samples_split=2, min_weight_fraction_leaf=0.0,\n",
       "                       presort=False, random_state=1373476980, splitter='best'),\n",
       " DecisionTreeRegressor(criterion='mse', max_depth=None, max_features=None,\n",
       "                       max_leaf_nodes=None, min_impurity_decrease=0.0,\n",
       "                       min_impurity_split=None, min_samples_leaf=1,\n",
       "                       min_samples_split=2, min_weight_fraction_leaf=0.0,\n",
       "                       presort=False, random_state=1442111204, splitter='best'),\n",
       " DecisionTreeRegressor(criterion='mse', max_depth=None, max_features=None,\n",
       "                       max_leaf_nodes=None, min_impurity_decrease=0.0,\n",
       "                       min_impurity_split=None, min_samples_leaf=1,\n",
       "                       min_samples_split=2, min_weight_fraction_leaf=0.0,\n",
       "                       presort=False, random_state=1963752004, splitter='best')]"
      ]
     },
     "execution_count": 36,
     "metadata": {},
     "output_type": "execute_result"
    }
   ],
   "source": [
    "bag_model.estimators_\n",
    "# agaçların özlllikleri"
   ]
  },
  {
   "cell_type": "code",
   "execution_count": 37,
   "metadata": {},
   "outputs": [
    {
     "data": {
      "text/plain": [
       "DecisionTreeRegressor(criterion='mse', max_depth=None, max_features=None,\n",
       "                      max_leaf_nodes=None, min_impurity_decrease=0.0,\n",
       "                      min_impurity_split=None, min_samples_leaf=1,\n",
       "                      min_samples_split=2, min_weight_fraction_leaf=0.0,\n",
       "                      presort=False, random_state=1310450778, splitter='best')"
      ]
     },
     "execution_count": 37,
     "metadata": {},
     "output_type": "execute_result"
    }
   ],
   "source": [
    "bag_model.estimators_[1]\n",
    "# 1.ağacın özellikleri "
   ]
  },
  {
   "cell_type": "code",
   "execution_count": 38,
   "metadata": {
    "collapsed": true,
    "jupyter": {
     "outputs_hidden": true
    }
   },
   "outputs": [
    {
     "data": {
      "text/plain": [
       "[array([245,  41,  46,   5, 184,  41,  87, 134, 256, 224,  54,  69, 184,\n",
       "         51,  48, 222, 154, 251, 198, 100, 222,  37, 113,  89,  55,  48,\n",
       "         54, 138, 189,   6, 122, 148,  63, 197, 101, 105, 143,  68, 246,\n",
       "          4,  31, 220,  87,  36, 136, 215, 160, 173, 100,  18, 231,  71,\n",
       "         79, 186, 124, 203, 121,  26, 141, 121,  11, 184,  60,  76, 224,\n",
       "        155, 137,  32, 166,  11, 114,  45, 198,  71, 175, 182, 180,  83,\n",
       "        149,  83, 237, 124, 121, 225, 187,  22, 204, 175, 239,   1,  55,\n",
       "        143,  92, 119,   1, 154, 113, 147,  33, 101, 248,  20, 205,  94,\n",
       "         48,  98, 188, 238, 222, 217, 147,  26, 107, 230, 156, 252, 169,\n",
       "         58, 240, 198, 173,  81, 102, 103,  61,  32, 159,  57,  93, 215,\n",
       "         83,  59, 164, 232,  53, 220, 139, 195, 145, 233, 177, 249, 181,\n",
       "        224, 179, 209, 169, 186,  16,  99, 207, 200,  25, 157, 132,  56,\n",
       "        221, 238, 145, 114, 171, 190, 216,  98, 115, 132,  56,  83, 180,\n",
       "        106, 153, 102,  32, 143, 241, 140,  27,   8,  30, 148,  21, 175,\n",
       "        254, 184, 179, 200, 186, 127,  13,  14, 180,   3,  86, 158, 247,\n",
       "        254, 147,   3,  50,  18,  35,  96, 213, 203, 122, 224, 137,  54,\n",
       "        147, 141, 163,  57,  50, 150,  74, 136, 252,  12,  25,  52, 230,\n",
       "        251,  82, 117,  72, 126,  75, 241,  54, 202, 212,  75, 205, 208,\n",
       "         92,  36,  92, 199,  73, 104,  37, 230, 196,   5,  33,  63, 137,\n",
       "        207, 251, 223,  40,  55, 104, 153, 143,  27, 122]),\n",
       " array([ 60, 187, 199, 155,  45,   7, 214, 115,  84,  90,  60,  38,  91,\n",
       "         33, 236,  54,  31, 250, 242,   5,  68, 203, 177, 191, 189,  63,\n",
       "         52, 107, 193,  81,  35, 245,  95, 119, 176,   3, 115,  55, 166,\n",
       "        195, 118, 109,  55,  84, 126, 242, 160, 233,  27, 177,  26,  43,\n",
       "         25, 100, 174,  91, 137,  87,   2,  24, 171, 217, 222, 189, 222,\n",
       "        247,  58, 157, 101, 159, 208, 252,  63, 194,  52,  44, 233, 222,\n",
       "         63, 236, 155,  46, 227, 209, 231, 227, 168, 110, 151, 107, 119,\n",
       "        142,  41, 103, 239, 208,  21, 154, 126,  90,  77, 216,  46, 142,\n",
       "        161, 119, 121, 208,  13, 190, 193,  83, 256, 154, 110, 216, 227,\n",
       "        214,  70, 252,  16,  94,  54, 230,  67,  29,  71, 127, 141, 175,\n",
       "        235,  72, 217, 248, 145,  94, 177,  32,  61, 160,  40, 212, 184,\n",
       "         40, 190, 148, 165, 146, 172, 185,  26, 127, 250,  71, 249,  27,\n",
       "        102,  92, 103,  25,  34, 104,  62, 210, 119, 194,  66,  94, 123,\n",
       "         54,  75, 197,   7,   1,  78,  75, 116,  52, 147, 127,  60,  44,\n",
       "        138, 119, 122,  15, 214,  97, 251, 172, 160,  83,  61, 242,  55,\n",
       "         79, 236,  98,  95, 119,  19, 182, 184,  19, 120,  25, 196, 174,\n",
       "        111,  83, 151, 174,  45,  99,  35, 163, 193, 160, 225, 148, 149,\n",
       "        206, 238, 210, 245, 207,  67,  34, 155, 140, 209, 213,  44, 126,\n",
       "         80,  48,  50,   6,  48, 101, 119, 199, 197, 167,   4, 196,   2,\n",
       "        153, 194, 139,  14, 240, 203,  12, 224, 231,  20]),\n",
       " array([143, 209, 240, 131, 228,  95,  96, 219,   9, 249, 112, 155,  72,\n",
       "         54, 156,  90, 100, 236, 218, 254, 191, 136,  86, 118,  83, 201,\n",
       "          9,  36, 130, 132, 134, 243,  37,   1, 106, 230, 147, 160,   9,\n",
       "        236, 120, 212,  28,  27,  17, 153, 248,  75,  49, 127, 118, 152,\n",
       "        131,  82,  24, 167, 148, 116, 208, 144, 110,  56, 255,   3,  83,\n",
       "        110,  67,  98, 236,  48,  56, 225, 198, 174,  62, 190,  96,  73,\n",
       "         15,  57, 217, 140, 252, 111,  40,  72,  82, 146, 117, 173, 163,\n",
       "        114, 214, 200, 132,  98, 126, 128, 109,  16,  13, 153, 157,  15,\n",
       "        190, 236, 115,  50,   6,  44, 179, 131, 109,  85, 178, 141, 253,\n",
       "        200, 154, 253,   0,   2,  85, 117, 250,  93, 175, 192, 193, 123,\n",
       "         45,  40,  76,   4, 192,  67, 155,  87, 235, 190,   0, 175, 200,\n",
       "         51, 149, 110,  34,  13, 186, 234, 177, 104,  50, 157,  95, 226,\n",
       "        197,  93,  10, 207,   9,  15, 194,  54, 135, 155, 215, 200,  89,\n",
       "        204,  83,  19, 184,  14, 122,  14,  20,  15,  26, 192,  66,  15,\n",
       "        186, 238, 117, 218, 100, 219, 115, 179, 135,  52, 107,  80,   5,\n",
       "         72,  31, 226, 132,  64,  97,  77,  15, 100, 228,  13, 183,  77,\n",
       "        114, 110, 115, 133,  16, 103, 158,  93, 179, 218,  27, 150, 115,\n",
       "         38, 224, 121,  68, 192,  60,   5, 247, 248, 243,  21,  48, 220,\n",
       "         52, 136, 175, 173, 247,  16, 113,  75,  78, 232,  58,   8, 104,\n",
       "         53,  82,  77, 236,  90, 167, 111,  95,  24,  32]),\n",
       " array([219, 160, 248,  16,   7, 156, 105, 125,  79, 128, 133, 235,  25,\n",
       "         66, 131, 164, 156,  33,  43,   4, 236,  58, 196, 231, 177,  70,\n",
       "         69, 235,  78,  38, 161,  62,   3,  91,  57, 198,  81, 214, 252,\n",
       "        104, 221,  21, 250, 228, 109, 134, 222, 120, 131, 245, 105,  88,\n",
       "        139,  61,  19, 125, 114, 166, 235,  83,  47,  66, 197, 256, 130,\n",
       "         96,  27, 109,  77, 171,  18, 230, 150, 147,  71,  77,  59, 101,\n",
       "         22, 143,  97, 250,  49, 116, 255, 205, 122, 222,  39, 117, 134,\n",
       "         22,  80,   5,   5, 133, 126, 255,  62, 133, 251, 203,   8, 163,\n",
       "        165, 165, 205,  90, 121,  97, 241, 241, 212, 250,  62, 173,  65,\n",
       "        174, 207,  89, 136, 183, 190, 244,  94,  59, 121, 247,  72, 112,\n",
       "        143,   7, 252,  57,  79,  50,  96,  87, 252,  41, 231, 105,  43,\n",
       "        128,  34, 243, 114, 196, 250,  16, 183, 232,  98,   3, 125, 217,\n",
       "        228,  83,  70, 201, 185,  45, 251, 226, 187, 220,  60, 237, 244,\n",
       "        119, 238,  53, 117, 117,  47,  77, 223, 105, 194, 165, 184,  87,\n",
       "        220, 103, 107, 171, 123,  85,  85,  70,  85,  84, 186, 234, 230,\n",
       "         64,  38,  84, 112,  58,  83, 212, 216,  38,   0, 177,  11, 116,\n",
       "         56, 178,  76, 102,  14, 223, 160, 190, 136,  94,  46, 243,  54,\n",
       "        223, 144, 129, 205, 224, 213, 120, 219,  99,  51,  47, 177, 228,\n",
       "         86,  90, 222, 110, 128,  86, 105, 221,  75, 223, 172,  61,  25,\n",
       "         22, 209,  96,  99, 133, 109,  99, 225,   4, 234]),\n",
       " array([140, 216, 155, 103, 196, 215, 185, 185, 151,  19,   3, 103, 143,\n",
       "        170,  74, 167, 218, 249, 231, 225,  10, 177,  18,   8,   4, 196,\n",
       "        175, 113, 126, 224, 228, 176, 210,  60,  98,  25,  74,  53, 196,\n",
       "         32, 253,   1,  49,  75,  67,  68, 189, 201, 218,  32, 154, 165,\n",
       "        117,  36,  35, 215,  98,  10, 120, 109, 180, 219, 147,  45, 154,\n",
       "        185,  55, 255,  77,  86, 213,  48,  73, 188, 204,  60,  36, 248,\n",
       "          5, 148, 144, 159, 107, 155, 243, 253,  41,  17,  93,  88, 244,\n",
       "         26,  29, 236, 120,  94,  90,  61, 187, 136, 207,  80, 127,  91,\n",
       "         86, 115,  37, 216,  51, 226,  67, 228,  25, 252, 152,  30,  74,\n",
       "         78,  38, 216, 164, 207, 134,  46, 167, 159, 136, 169,  96, 230,\n",
       "         11,  69, 100, 144,  79,  92, 200, 140,  69, 104,  91, 254, 242,\n",
       "        109,  72, 247,  97,  19,  19, 129, 133,  48, 154, 240,  18, 178,\n",
       "         43,  91, 113, 184,   7, 139, 146,  51, 221, 132,  15,   4,  76,\n",
       "        201,  52, 195, 237, 217, 212, 146, 107,  95,  39, 221,  79, 180,\n",
       "         97, 160, 245, 130, 157, 217, 148,  92, 135, 123,  28, 159, 121,\n",
       "         89,  92, 109,  75,  96,  58,  56, 126,  99,  99, 214, 235, 225,\n",
       "        220,   9, 195,  39, 209, 187,  52, 115, 218, 108, 146,  95,  88,\n",
       "        188,  86, 221, 185,   5, 253, 149, 103,  21, 123, 113,  11, 179,\n",
       "        236, 146, 198,  29, 182, 160,  80, 247, 106, 169,  92, 253, 184,\n",
       "        254, 141, 176, 184, 131, 198, 170,  44, 216, 184]),\n",
       " array([174, 243,  93,  62, 219, 256,  45, 233, 162, 152,  66, 112,  85,\n",
       "        241, 122, 236, 168, 222, 161, 158,  86, 243, 180, 127, 241,  32,\n",
       "        133, 140,  26,  95,  25,  90,  76,  51, 212, 192, 251, 222, 236,\n",
       "        122, 174, 150, 170,  93, 235,  52,  39, 145,  40,  89, 126,  44,\n",
       "         88, 138, 210, 121, 233, 192,  45, 104,   0, 172, 223, 107,  50,\n",
       "         26,  20,  55, 143, 121,  52, 172,   9, 249, 211, 249,   9, 140,\n",
       "         51,  65,  78,  34, 179,  78,  98, 218,  35, 126,  26,   7,  44,\n",
       "        194, 207, 104, 206, 143,   8, 217, 178, 136, 236, 103,  57, 193,\n",
       "         97, 151, 230,  86, 102, 168,  50, 211, 245,  96,  29,   6,  91,\n",
       "        106, 157, 113, 174,   7,  13, 124, 237,  23, 109,   3, 253, 191,\n",
       "         22, 217, 126, 254, 253,  28, 250,   2, 170, 252,  90,  19,  35,\n",
       "        190, 225, 221,  87, 221, 177, 165, 205, 251,   7, 215,  80,  19,\n",
       "        139,  22, 253,   1,   7, 238, 150,  46, 206,  45,  94, 217,  27,\n",
       "          4,  98, 243,  14, 140, 120, 129,  52, 127,  72, 119, 158, 186,\n",
       "         99, 160, 128, 116,   1, 161,  28,  69, 106,  71, 154, 224, 134,\n",
       "        246, 201,  16,  33, 189,  28, 189, 156, 202,  25, 108,   2, 145,\n",
       "         85, 206, 157,  98, 114, 168, 245, 238, 184,  84, 134, 133, 135,\n",
       "        191,  98,  97, 184,  67, 159, 197,   4, 190,  53, 176, 110,  52,\n",
       "        196,  33,  70,  73,   2, 130,  81,  74, 154,  57,  45,   2, 228,\n",
       "        146, 192,  21, 227,  10, 181, 136, 181, 201, 177]),\n",
       " array([184, 167,  28,  64, 187, 235, 140, 127,  20,  50,  17,   9,   0,\n",
       "        220, 112, 194,  63, 223, 118, 177, 199,  20,  37, 162, 192,  59,\n",
       "        209,  39,  78,  65, 186, 112, 227, 221, 163, 167,  93,  92, 138,\n",
       "         64, 172, 128,  16,  69,  96, 222,  18, 123,  78, 231,  59,  32,\n",
       "         85, 201, 225,  61, 109, 126, 154,  35, 247, 198,   2,  24, 124,\n",
       "        229,   6,   8, 162,  79, 199, 184, 218, 146,  92,   8, 242, 251,\n",
       "        123, 251, 149, 198, 194, 210,  24, 151,  40,  49, 239, 142, 190,\n",
       "        155, 102, 131, 180, 225, 181,  45, 135, 141,  83,  22,  85, 210,\n",
       "        184, 106,  25,  45, 216,  57, 147, 109, 242, 244, 123, 158,  95,\n",
       "        141, 151,  24,  91, 248, 143, 209, 158,  51, 114, 154, 184,  58,\n",
       "        151, 222,  99, 125, 139, 116, 245, 161, 106,  33, 144, 163, 226,\n",
       "        164,   9, 107, 176, 131, 194,  95, 218, 110, 198, 120, 116, 114,\n",
       "         61,  86, 186, 178, 234, 209,  25, 148, 117, 126, 133, 143,  71,\n",
       "        120,  27, 249,  32, 131,  11, 195, 189,   5, 189, 159, 224,  46,\n",
       "        252,  49, 254,  55,  76, 170,  46, 210,   8,  90, 227, 134,  85,\n",
       "          9,  30, 161,  14, 127,  64, 216, 122, 119,  10, 220, 193, 220,\n",
       "        166, 171, 243, 113, 148, 180, 187, 130, 105,  12, 165, 171, 212,\n",
       "         83,  79, 223, 112, 122,   8, 150,   5, 110, 244,  68, 235, 127,\n",
       "         53, 120, 141,  62, 203,  27,  83, 185, 250, 255,  22,  58,  94,\n",
       "        180, 149, 171, 103, 209, 132, 109, 139, 185,  27]),\n",
       " array([ 74,  44, 254,  31, 170, 152,  57,  49,  68, 193, 190,  68, 228,\n",
       "         95, 202, 229,  76, 191, 145, 184,  44, 143, 227, 239,  15, 199,\n",
       "        215, 207, 131, 163, 179, 251,  30,  34, 233, 209, 211,  86, 195,\n",
       "        151, 117, 117, 192, 166, 142,  46,  75,  35, 254, 233, 116, 207,\n",
       "        143,  41, 115, 134, 169, 138, 188,  69, 132,  83, 189, 143,  49,\n",
       "         66, 118,  65, 163, 252,  32,  20, 202, 158,  81,  69,  73, 108,\n",
       "        190,  23, 202, 255, 145, 239,   2, 216,  15, 195,  31, 176,  83,\n",
       "        192, 169,  46, 180, 165,  20, 105,  53,  11, 112, 238, 168,  97,\n",
       "        146,  44, 221, 245, 108, 192, 125, 109, 167, 103, 163,  66, 249,\n",
       "        251, 183, 140,   6,  89, 145, 146,  58,  96, 166, 169, 164,  25,\n",
       "        109,  99,  76, 247,  37,  94, 104, 117, 128,  56,  58,  73,  71,\n",
       "         56, 234, 239, 249, 249, 113,  40, 143,  19,  51, 122, 113, 204,\n",
       "         45, 195, 196,  62, 181,   9,   8, 165,   3, 236,  77, 200,  60,\n",
       "         50,  87,  79,  67, 111,  18,  28, 173, 131,  13,  88,  79, 145,\n",
       "        143,  30, 112,  46,  95,  39, 169,  60, 234, 224,  66, 209, 229,\n",
       "        160, 157, 230, 212,  65, 125, 226,  97, 215,  13, 240,   3,  21,\n",
       "        235,  53,  72, 154, 240,   9,   4, 215,  99, 219,  59, 183, 241,\n",
       "        215, 199, 152, 153,  80,   5, 144,  24, 200, 236, 238, 176, 102,\n",
       "         83,  39,  81,  86, 117,  75, 144, 215,  71, 163,  25, 160, 222,\n",
       "        163, 225,  37, 115, 244,  64,  93, 247,  79, 248]),\n",
       " array([116, 234, 143,  86, 230,   9, 162, 203, 141,  46, 151, 202,  30,\n",
       "         87,  11, 157, 131, 253, 118, 125, 177, 112, 193, 219, 132,  10,\n",
       "        134, 114, 225,   0,   3, 144, 186,  85, 256,  80,  82, 168, 252,\n",
       "         61,  34,  73,  76, 161, 147, 131, 200,  63, 177, 131,  73, 106,\n",
       "        242, 126, 218, 247, 152, 226, 190, 114,   0,  85, 159,   6, 206,\n",
       "        200,  88,  42, 203, 115,  73, 256,  27, 161, 236, 216, 109, 159,\n",
       "        110, 219,  82,  31,  55,  99,  76, 215,  62, 157,  93, 226, 174,\n",
       "         58,  11, 228, 206,   1, 103,  41,  27, 255,  25, 197,   9,  32,\n",
       "        154, 246, 118, 155, 238, 120, 215,  80, 148, 157, 246, 109,  88,\n",
       "        141,  77, 200, 184, 154, 250,  98, 227, 207, 174,  35, 122,  38,\n",
       "        205,  11,  33, 169, 193,  21,   0, 224,  37, 240, 149, 121,  17,\n",
       "        193, 208, 159,  62, 175, 222, 253,  72, 231, 103, 110,  94, 227,\n",
       "        128, 144, 235, 242, 213, 184, 234, 114, 102, 153, 176, 221, 225,\n",
       "        199,  37, 250, 123, 203,  68, 231,  92, 192,  87,  84,  61, 244,\n",
       "        141, 205, 140, 172, 111, 144, 184, 141, 148, 133,  79,  66,  48,\n",
       "        207,  18, 142,  56, 127,  67,  75, 120,  44,  83, 110,  22,  22,\n",
       "        106,  63, 118,  33,  39, 188, 108, 145, 122, 247, 114,   1, 177,\n",
       "        202, 105, 142, 237, 105, 171, 129,  34, 245,  44, 118, 247,   0,\n",
       "        104,  75,  27,  59,  37,  39,  94, 153,  74, 152, 192, 176,   8,\n",
       "         56,  32, 200, 245, 189,  27, 161, 110, 213,  33]),\n",
       " array([248,  51, 131,  22, 232,  70, 183, 155,  69, 183,  42, 203, 202,\n",
       "        224, 132, 120, 124, 182, 241,  48, 193, 107, 174,  57,  32, 190,\n",
       "         88,  13,  84, 161, 211, 194, 214,  60,  52, 220, 109,  94, 153,\n",
       "         22, 142, 203, 191,  28, 149,  30,  40,  63,  61, 115, 212, 165,\n",
       "         82,  73, 223, 243,  20,  67, 240, 160, 170,  11, 127, 149, 245,\n",
       "        154,  58,  16,  20,  84, 154,  56, 246,  11, 189, 155, 150, 161,\n",
       "         20,  54,  24,  66,  81, 255, 120, 239, 122,  80, 135, 105, 217,\n",
       "        203,   7,  46, 194,  25, 141, 253, 132,   0,  70, 166,  66,  32,\n",
       "         25,  95, 212,  95, 170, 230, 116, 253,  88, 134, 172,  60, 152,\n",
       "        247,  34,  44,  30, 146, 196,  91,  63,  37,  14,  87, 249, 160,\n",
       "        209, 196, 210,  92, 188, 175, 213, 225,  33,  77, 248,  84,  55,\n",
       "        242, 185, 181,  64, 240, 227, 174, 233, 146, 129, 239,  84, 216,\n",
       "         20,  18, 220, 113, 208, 114,  28, 229,   4, 256, 241, 171,  76,\n",
       "         11, 188,  98,  99, 160,  27, 246,  84, 224, 211,  47,  48, 107,\n",
       "         19,  55,  37,  71, 192, 217, 181, 101,  61, 221,  45,  68,  75,\n",
       "        133,  30, 151, 190, 166,  78,  95, 103, 120, 185, 212, 160,  25,\n",
       "          4, 118, 147, 112,  98, 195,   1, 193,   3, 172,  17, 202,  68,\n",
       "        248, 162,  48,  63, 117,  32,  15, 145, 102, 208, 152, 177,  64,\n",
       "        206,  94, 185, 204, 185, 102,  60, 171, 207, 129, 201,  76,  90,\n",
       "        242, 123, 244,  27, 256,  38, 176, 182, 190,  37])]"
      ]
     },
     "execution_count": 38,
     "metadata": {},
     "output_type": "execute_result"
    }
   ],
   "source": [
    "bag_model.estimators_samples_\n",
    "# her bir ağaçta kaç örnek var , index ve indeşleri"
   ]
  },
  {
   "cell_type": "code",
   "execution_count": 39,
   "metadata": {},
   "outputs": [
    {
     "data": {
      "text/plain": [
       "[array([12,  1,  2, 15,  4,  0,  3,  9, 16,  4, 11,  5,  7, 14, 15, 14,  4,\n",
       "        11,  6]),\n",
       " array([15,  3, 17,  8, 10,  9, 18, 12,  2,  9,  7, 14, 11,  4,  5, 10, 12,\n",
       "         5,  1]),\n",
       " array([ 7,  8, 12, 11,  8, 10, 16, 10, 13,  4,  4,  9,  1, 12,  7,  4, 14,\n",
       "        10, 14]),\n",
       " array([ 6,  2, 14, 18,  6,  0, 17, 10,  1,  4, 18,  5, 11,  7,  7, 10,  1,\n",
       "        13,  6]),\n",
       " array([11, 12,  6,  8,  9,  6, 13, 14,  5, 17,  8,  3,  4, 17, 13,  3, 16,\n",
       "        14,  7]),\n",
       " array([ 6,  8, 11,  1,  6,  8,  9, 13,  7,  8,  0,  5, 16,  6, 15, 16,  6,\n",
       "        10, 14]),\n",
       " array([ 1,  7, 13, 10,  1,  7,  5,  1, 17, 14, 17,  1,  0,  5,  6,  2, 13,\n",
       "         3,  7]),\n",
       " array([12,  0,  2,  5,  1,  3,  1, 15,  2,  3,  6, 18, 12,  3,  5,  7, 17,\n",
       "         8,  8]),\n",
       " array([ 9, 12,  0, 14, 12, 12, 15,  2, 18,  1, 12,  7,  7, 13, 16,  0, 10,\n",
       "         0, 16]),\n",
       " array([ 7,  3, 10,  4,  2, 13,  5, 16,  6, 10,  8, 10,  4,  1, 17,  3,  6,\n",
       "         4,  4])]"
      ]
     },
     "execution_count": 39,
     "metadata": {},
     "output_type": "execute_result"
    }
   ],
   "source": [
    "bag_model.estimators_features_\n",
    "# ağaçların kullandığı değişkenler "
   ]
  },
  {
   "cell_type": "markdown",
   "metadata": {},
   "source": [
    "## Tahmin\n"
   ]
  },
  {
   "cell_type": "code",
   "execution_count": 43,
   "metadata": {},
   "outputs": [],
   "source": [
    "from sklearn.metrics import mean_squared_error"
   ]
  },
  {
   "cell_type": "code",
   "execution_count": 44,
   "metadata": {},
   "outputs": [],
   "source": [
    "y_pred = bag_model.predict( X_test )"
   ]
  },
  {
   "cell_type": "code",
   "execution_count": 45,
   "metadata": {},
   "outputs": [
    {
     "data": {
      "text/plain": [
       "266.80872714386163"
      ]
     },
     "execution_count": 45,
     "metadata": {},
     "output_type": "execute_result"
    }
   ],
   "source": [
    "np.sqrt( mean_squared_error(y_test ,y_pred) )"
   ]
  },
  {
   "cell_type": "markdown",
   "metadata": {},
   "source": [
    "## Agaca özel tahmin "
   ]
  },
  {
   "cell_type": "code",
   "execution_count": 50,
   "metadata": {},
   "outputs": [],
   "source": [
    "y_pred_2 = bag_model.estimators_[3].predict(X_test)"
   ]
  },
  {
   "cell_type": "code",
   "execution_count": 51,
   "metadata": {},
   "outputs": [
    {
     "data": {
      "text/plain": [
       "619.7445367895754"
      ]
     },
     "execution_count": 51,
     "metadata": {},
     "output_type": "execute_result"
    }
   ],
   "source": [
    "np.sqrt( mean_squared_error(y_test ,y_pred_2 ) )"
   ]
  },
  {
   "cell_type": "markdown",
   "metadata": {},
   "source": [
    "- Baya hatalı agaçmış "
   ]
  },
  {
   "cell_type": "markdown",
   "metadata": {},
   "source": [
    " "
   ]
  },
  {
   "cell_type": "markdown",
   "metadata": {},
   "source": [
    "# Tuning "
   ]
  },
  {
   "cell_type": "code",
   "execution_count": 53,
   "metadata": {},
   "outputs": [],
   "source": [
    "from sklearn.ensemble import BaggingRegressor\n",
    "from sklearn.model_selection import GridSearchCV\n"
   ]
  },
  {
   "cell_type": "code",
   "execution_count": 56,
   "metadata": {},
   "outputs": [
    {
     "name": "stdout",
     "output_type": "stream",
     "text": [
      "Fitting 10 folds for each of 18 candidates, totalling 180 fits\n"
     ]
    },
    {
     "name": "stderr",
     "output_type": "stream",
     "text": [
      "[Parallel(n_jobs=-1)]: Using backend LokyBackend with 12 concurrent workers.\n",
      "[Parallel(n_jobs=-1)]: Done  17 tasks      | elapsed:    3.5s\n",
      "[Parallel(n_jobs=-1)]: Done 180 out of 180 | elapsed:    4.1s finished\n",
      "C:\\ProgramData\\Anaconda3\\lib\\site-packages\\sklearn\\model_selection\\_search.py:814: DeprecationWarning: The default of the `iid` parameter will change from True to False in version 0.22 and will be removed in 0.24. This will change numeric results when test-set sizes are unequal.\n",
      "  DeprecationWarning)\n"
     ]
    }
   ],
   "source": [
    "bag = BaggingRegressor()\n",
    "bag_params = {\"n_estimators\" : range(2 ,20)}\n",
    "bag_cv = GridSearchCV(bag ,\n",
    "                     bag_params,\n",
    "                     cv = 10 ,\n",
    "                     n_jobs = -1 , \n",
    "                     verbose = 2).fit(X_train ,y_train)\n"
   ]
  },
  {
   "cell_type": "code",
   "execution_count": 57,
   "metadata": {},
   "outputs": [
    {
     "data": {
      "text/plain": [
       "{'n_estimators': 17}"
      ]
     },
     "execution_count": 57,
     "metadata": {},
     "output_type": "execute_result"
    }
   ],
   "source": [
    "bag_cv.best_params_"
   ]
  },
  {
   "cell_type": "markdown",
   "metadata": {},
   "source": [
    "# Final modeli "
   ]
  },
  {
   "cell_type": "code",
   "execution_count": 59,
   "metadata": {},
   "outputs": [],
   "source": [
    "from sklearn.ensemble import BaggingRegressor\n"
   ]
  },
  {
   "cell_type": "code",
   "execution_count": 60,
   "metadata": {},
   "outputs": [],
   "source": [
    "bag_model = BaggingRegressor(n_estimators = 17).fit(X_train , y_train)\n"
   ]
  },
  {
   "cell_type": "code",
   "execution_count": 61,
   "metadata": {},
   "outputs": [],
   "source": [
    "y_predict = bag_model.predict(X_test)"
   ]
  },
  {
   "cell_type": "code",
   "execution_count": 62,
   "metadata": {},
   "outputs": [
    {
     "data": {
      "text/plain": [
       "266.80872714386163"
      ]
     },
     "execution_count": 62,
     "metadata": {},
     "output_type": "execute_result"
    }
   ],
   "source": [
    "np.sqrt( mean_squared_error( y_test , y_pred ) )"
   ]
  },
  {
   "cell_type": "code",
   "execution_count": null,
   "metadata": {},
   "outputs": [],
   "source": []
  }
 ],
 "metadata": {
  "kernelspec": {
   "display_name": "Python 3",
   "language": "python",
   "name": "python3"
  },
  "language_info": {
   "codemirror_mode": {
    "name": "ipython",
    "version": 3
   },
   "file_extension": ".py",
   "mimetype": "text/x-python",
   "name": "python",
   "nbconvert_exporter": "python",
   "pygments_lexer": "ipython3",
   "version": "3.7.4"
  }
 },
 "nbformat": 4,
 "nbformat_minor": 4
}
