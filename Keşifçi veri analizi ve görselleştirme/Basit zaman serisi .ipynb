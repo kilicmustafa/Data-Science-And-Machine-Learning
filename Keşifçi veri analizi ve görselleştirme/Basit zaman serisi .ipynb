{
 "cells": [
  {
   "cell_type": "code",
   "execution_count": 1,
   "metadata": {},
   "outputs": [
    {
     "name": "stdout",
     "output_type": "stream",
     "text": [
      "Collecting pandas_datareader\n",
      "  Downloading https://files.pythonhosted.org/packages/14/52/accb990baebe0063977f26e02df36aa7eb4015ed4e86f828cd76273cd6f1/pandas_datareader-0.8.1-py2.py3-none-any.whl (107kB)\n",
      "Requirement already satisfied: lxml in c:\\programdata\\anaconda3\\lib\\site-packages (from pandas_datareader) (4.4.1)\n",
      "Requirement already satisfied: pandas>=0.21 in c:\\programdata\\anaconda3\\lib\\site-packages (from pandas_datareader) (0.25.1)\n",
      "Requirement already satisfied: requests>=2.3.0 in c:\\programdata\\anaconda3\\lib\\site-packages (from pandas_datareader) (2.22.0)\n",
      "Requirement already satisfied: pytz>=2017.2 in c:\\programdata\\anaconda3\\lib\\site-packages (from pandas>=0.21->pandas_datareader) (2019.3)\n",
      "Requirement already satisfied: numpy>=1.13.3 in c:\\programdata\\anaconda3\\lib\\site-packages (from pandas>=0.21->pandas_datareader) (1.16.5)\n",
      "Requirement already satisfied: python-dateutil>=2.6.1 in c:\\programdata\\anaconda3\\lib\\site-packages (from pandas>=0.21->pandas_datareader) (2.8.0)\n",
      "Requirement already satisfied: idna<2.9,>=2.5 in c:\\programdata\\anaconda3\\lib\\site-packages (from requests>=2.3.0->pandas_datareader) (2.8)\n",
      "Requirement already satisfied: urllib3!=1.25.0,!=1.25.1,<1.26,>=1.21.1 in c:\\programdata\\anaconda3\\lib\\site-packages (from requests>=2.3.0->pandas_datareader) (1.24.2)\n",
      "Requirement already satisfied: chardet<3.1.0,>=3.0.2 in c:\\programdata\\anaconda3\\lib\\site-packages (from requests>=2.3.0->pandas_datareader) (3.0.4)\n",
      "Requirement already satisfied: certifi>=2017.4.17 in c:\\programdata\\anaconda3\\lib\\site-packages (from requests>=2.3.0->pandas_datareader) (2019.9.11)\n",
      "Requirement already satisfied: six>=1.5 in c:\\programdata\\anaconda3\\lib\\site-packages (from python-dateutil>=2.6.1->pandas>=0.21->pandas_datareader) (1.12.0)\n",
      "Installing collected packages: pandas-datareader\n",
      "Successfully installed pandas-datareader-0.8.1\n"
     ]
    }
   ],
   "source": [
    "!pip install pandas_datareader"
   ]
  },
  {
   "cell_type": "code",
   "execution_count": 2,
   "metadata": {},
   "outputs": [],
   "source": [
    "import pandas_datareader as pr"
   ]
  },
  {
   "cell_type": "code",
   "execution_count": 3,
   "metadata": {},
   "outputs": [],
   "source": [
    "df =  pr.get_data_yahoo(\"AAPL\" ,start = \"2016-01-20\" ,end = \"2019-03-20\")"
   ]
  },
  {
   "cell_type": "code",
   "execution_count": 5,
   "metadata": {},
   "outputs": [
    {
     "data": {
      "text/html": [
       "<div>\n",
       "<style scoped>\n",
       "    .dataframe tbody tr th:only-of-type {\n",
       "        vertical-align: middle;\n",
       "    }\n",
       "\n",
       "    .dataframe tbody tr th {\n",
       "        vertical-align: top;\n",
       "    }\n",
       "\n",
       "    .dataframe thead th {\n",
       "        text-align: right;\n",
       "    }\n",
       "</style>\n",
       "<table border=\"1\" class=\"dataframe\">\n",
       "  <thead>\n",
       "    <tr style=\"text-align: right;\">\n",
       "      <th></th>\n",
       "      <th>High</th>\n",
       "      <th>Low</th>\n",
       "      <th>Open</th>\n",
       "      <th>Close</th>\n",
       "      <th>Volume</th>\n",
       "      <th>Adj Close</th>\n",
       "    </tr>\n",
       "    <tr>\n",
       "      <th>Date</th>\n",
       "      <th></th>\n",
       "      <th></th>\n",
       "      <th></th>\n",
       "      <th></th>\n",
       "      <th></th>\n",
       "      <th></th>\n",
       "    </tr>\n",
       "  </thead>\n",
       "  <tbody>\n",
       "    <tr>\n",
       "      <td>2016-01-20</td>\n",
       "      <td>98.190002</td>\n",
       "      <td>93.419998</td>\n",
       "      <td>95.099998</td>\n",
       "      <td>96.790001</td>\n",
       "      <td>72334400.0</td>\n",
       "      <td>90.233437</td>\n",
       "    </tr>\n",
       "    <tr>\n",
       "      <td>2016-01-21</td>\n",
       "      <td>97.879997</td>\n",
       "      <td>94.940002</td>\n",
       "      <td>97.059998</td>\n",
       "      <td>96.300003</td>\n",
       "      <td>52161500.0</td>\n",
       "      <td>89.776627</td>\n",
       "    </tr>\n",
       "    <tr>\n",
       "      <td>2016-01-22</td>\n",
       "      <td>101.459999</td>\n",
       "      <td>98.370003</td>\n",
       "      <td>98.629997</td>\n",
       "      <td>101.419998</td>\n",
       "      <td>65800500.0</td>\n",
       "      <td>94.549812</td>\n",
       "    </tr>\n",
       "    <tr>\n",
       "      <td>2016-01-25</td>\n",
       "      <td>101.529999</td>\n",
       "      <td>99.209999</td>\n",
       "      <td>101.519997</td>\n",
       "      <td>99.440002</td>\n",
       "      <td>51794500.0</td>\n",
       "      <td>92.703934</td>\n",
       "    </tr>\n",
       "    <tr>\n",
       "      <td>2016-01-26</td>\n",
       "      <td>100.879997</td>\n",
       "      <td>98.070000</td>\n",
       "      <td>99.930000</td>\n",
       "      <td>99.989998</td>\n",
       "      <td>75077000.0</td>\n",
       "      <td>93.216660</td>\n",
       "    </tr>\n",
       "  </tbody>\n",
       "</table>\n",
       "</div>"
      ],
      "text/plain": [
       "                  High        Low        Open       Close      Volume  \\\n",
       "Date                                                                    \n",
       "2016-01-20   98.190002  93.419998   95.099998   96.790001  72334400.0   \n",
       "2016-01-21   97.879997  94.940002   97.059998   96.300003  52161500.0   \n",
       "2016-01-22  101.459999  98.370003   98.629997  101.419998  65800500.0   \n",
       "2016-01-25  101.529999  99.209999  101.519997   99.440002  51794500.0   \n",
       "2016-01-26  100.879997  98.070000   99.930000   99.989998  75077000.0   \n",
       "\n",
       "            Adj Close  \n",
       "Date                   \n",
       "2016-01-20  90.233437  \n",
       "2016-01-21  89.776627  \n",
       "2016-01-22  94.549812  \n",
       "2016-01-25  92.703934  \n",
       "2016-01-26  93.216660  "
      ]
     },
     "execution_count": 5,
     "metadata": {},
     "output_type": "execute_result"
    }
   ],
   "source": [
    "df.head()"
   ]
  },
  {
   "cell_type": "code",
   "execution_count": 6,
   "metadata": {},
   "outputs": [
    {
     "data": {
      "text/plain": [
       "(797, 6)"
      ]
     },
     "execution_count": 6,
     "metadata": {},
     "output_type": "execute_result"
    }
   ],
   "source": [
    "df.shape"
   ]
  },
  {
   "cell_type": "code",
   "execution_count": 8,
   "metadata": {},
   "outputs": [
    {
     "name": "stdout",
     "output_type": "stream",
     "text": [
      "<class 'pandas.core.frame.DataFrame'>\n",
      "DatetimeIndex: 797 entries, 2016-01-20 to 2019-03-20\n",
      "Data columns (total 6 columns):\n",
      "High         797 non-null float64\n",
      "Low          797 non-null float64\n",
      "Open         797 non-null float64\n",
      "Close        797 non-null float64\n",
      "Volume       797 non-null float64\n",
      "Adj Close    797 non-null float64\n",
      "dtypes: float64(6)\n",
      "memory usage: 43.6 KB\n"
     ]
    }
   ],
   "source": [
    "df.info()"
   ]
  },
  {
   "cell_type": "code",
   "execution_count": 14,
   "metadata": {},
   "outputs": [
    {
     "data": {
      "text/plain": [
       "DatetimeIndex(['2016-01-20', '2016-01-21', '2016-01-22', '2016-01-25',\n",
       "               '2016-01-26', '2016-01-27', '2016-01-28', '2016-01-29',\n",
       "               '2016-02-01', '2016-02-02',\n",
       "               ...\n",
       "               '2019-03-07', '2019-03-08', '2019-03-11', '2019-03-12',\n",
       "               '2019-03-13', '2019-03-14', '2019-03-15', '2019-03-18',\n",
       "               '2019-03-19', '2019-03-20'],\n",
       "              dtype='datetime64[ns]', name='Date', length=797, freq=None)"
      ]
     },
     "execution_count": 14,
     "metadata": {},
     "output_type": "execute_result"
    }
   ],
   "source": [
    "import pandas as pd\n",
    "df.index = pd.DatetimeIndex(df.index)\n",
    "df.index"
   ]
  },
  {
   "cell_type": "code",
   "execution_count": 17,
   "metadata": {},
   "outputs": [
    {
     "data": {
      "image/png": "[encoded data removed]",
      "text/plain": [
       "<Figure size 432x288 with 1 Axes>"
      ]
     },
     "metadata": {
      "needs_background": "light"
     },
     "output_type": "display_data"
    }
   ],
   "source": [
    "df[\"Close\"].plot();"
   ]
  },
  {
   "cell_type": "code",
   "execution_count": null,
   "metadata": {},
   "outputs": [],
   "source": []
  }
 ],
 "metadata": {
  "kernelspec": {
   "display_name": "Python 3",
   "language": "python",
   "name": "python3"
  },
  "language_info": {
   "codemirror_mode": {
    "name": "ipython",
    "version": 3
   },
   "file_extension": ".py",
   "mimetype": "text/x-python",
   "name": "python",
   "nbconvert_exporter": "python",
   "pygments_lexer": "ipython3",
   "version": "3.7.4"
  }
 },
 "nbformat": 4,
 "nbformat_minor": 4
}
